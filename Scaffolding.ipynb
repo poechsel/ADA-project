{
 "cells": [
  {
   "cell_type": "markdown",
   "metadata": {},
   "source": [
    "# Understanding Virality\n",
    "\n",
    "*How does information and influence propagate on social networks?*"
   ]
  },
  {
   "cell_type": "markdown",
   "metadata": {},
   "source": [
    "## First milestone: scaffolding and preliminary analysis of the data."
   ]
  },
  {
   "cell_type": "code",
   "execution_count": 2,
   "metadata": {},
   "outputs": [],
   "source": [
    "import numpy as np\n",
    "import pandas as pd\n",
    "import seaborn as sns\n",
    "import matplotlib.pyplot as plt\n",
    "import matplotlib\n",
    "%matplotlib inline\n",
    "\n",
    "import findspark\n",
    "findspark.init()\n",
    "\n",
    "# Import and start a Spark session.\n",
    "from pyspark.sql import *\n",
    "from pyspark.sql.functions import *\n",
    "\n",
    "spark = SparkSession.builder.getOrCreate()"
   ]
  },
  {
   "cell_type": "markdown",
   "metadata": {},
   "source": [
    "We started by extracting information about hashtags from tweets for every month using `scripts/hashtags_insights.py`, and store all this information into `hashtag{xx}.parquet` files (with `{xx}` the number of the month, from `02` to `11` so far). Looking at `hashtag02.parquet`, we can see that we have extracted the number of occurences, minimum timestamp and maximum timestamp of $2737114$ hashtags for March 2017."
   ]
  },
  {
   "cell_type": "code",
   "execution_count": 4,
   "metadata": {},
   "outputs": [],
   "source": [
    "hashtags = spark.read.parquet('hashtag02.parquet')"
   ]
  },
  {
   "cell_type": "code",
   "execution_count": 5,
   "metadata": {},
   "outputs": [
    {
     "data": {
      "text/plain": [
       "2737114"
      ]
     },
     "execution_count": 5,
     "metadata": {},
     "output_type": "execute_result"
    }
   ],
   "source": [
    "hashtags.count()"
   ]
  },
  {
   "cell_type": "markdown",
   "metadata": {},
   "source": [
    "To avoid memory issues, we limit ourselves to hashtags with more than 10 occurences in the month."
   ]
  },
  {
   "cell_type": "code",
   "execution_count": null,
   "metadata": {},
   "outputs": [],
   "source": [
    "hashtags_df = hashtags.where(col('count') > 10).toPandas()"
   ]
  },
  {
   "cell_type": "code",
   "execution_count": 7,
   "metadata": {},
   "outputs": [
    {
     "data": {
      "text/html": [
       "<div>\n",
       "<style scoped>\n",
       "    .dataframe tbody tr th:only-of-type {\n",
       "        vertical-align: middle;\n",
       "    }\n",
       "\n",
       "    .dataframe tbody tr th {\n",
       "        vertical-align: top;\n",
       "    }\n",
       "\n",
       "    .dataframe thead th {\n",
       "        text-align: right;\n",
       "    }\n",
       "</style>\n",
       "<table border=\"1\" class=\"dataframe\">\n",
       "  <thead>\n",
       "    <tr style=\"text-align: right;\">\n",
       "      <th></th>\n",
       "      <th>tag</th>\n",
       "      <th>count</th>\n",
       "      <th>min_timestamp</th>\n",
       "      <th>max_timestamp</th>\n",
       "    </tr>\n",
       "  </thead>\n",
       "  <tbody>\n",
       "    <tr>\n",
       "      <th>0</th>\n",
       "      <td>Season9</td>\n",
       "      <td>13</td>\n",
       "      <td>1485997586664</td>\n",
       "      <td>1487816542662</td>\n",
       "    </tr>\n",
       "    <tr>\n",
       "      <th>1</th>\n",
       "      <td>NBA</td>\n",
       "      <td>7832</td>\n",
       "      <td>1485934976663</td>\n",
       "      <td>1488351071663</td>\n",
       "    </tr>\n",
       "    <tr>\n",
       "      <th>2</th>\n",
       "      <td>NadineLustre</td>\n",
       "      <td>262466</td>\n",
       "      <td>1485942989659</td>\n",
       "      <td>1488351593657</td>\n",
       "    </tr>\n",
       "    <tr>\n",
       "      <th>3</th>\n",
       "      <td>العسكريين</td>\n",
       "      <td>31</td>\n",
       "      <td>1486018308658</td>\n",
       "      <td>1487696188658</td>\n",
       "    </tr>\n",
       "    <tr>\n",
       "      <th>4</th>\n",
       "      <td>Girl</td>\n",
       "      <td>249</td>\n",
       "      <td>1485937286663</td>\n",
       "      <td>1488347704663</td>\n",
       "    </tr>\n",
       "  </tbody>\n",
       "</table>\n",
       "</div>"
      ],
      "text/plain": [
       "            tag   count  min_timestamp  max_timestamp\n",
       "0       Season9      13  1485997586664  1487816542662\n",
       "1           NBA    7832  1485934976663  1488351071663\n",
       "2  NadineLustre  262466  1485942989659  1488351593657\n",
       "3     العسكريين      31  1486018308658  1487696188658\n",
       "4          Girl     249  1485937286663  1488347704663"
      ]
     },
     "execution_count": 7,
     "metadata": {},
     "output_type": "execute_result"
    }
   ],
   "source": [
    "hashtags_df.head()"
   ]
  },
  {
   "cell_type": "markdown",
   "metadata": {},
   "source": [
    "### Analysis of the occurence of hashtags.\n",
    "\n",
    "We first wanted to understand the distribution of the number of occurences of the hashtags we extracted for that month."
   ]
  },
  {
   "cell_type": "code",
   "execution_count": 8,
   "metadata": {},
   "outputs": [
    {
     "data": {
      "text/plain": [
       "<matplotlib.axes._subplots.AxesSubplot at 0x7f328a13fac8>"
      ]
     },
     "execution_count": 8,
     "metadata": {},
     "output_type": "execute_result"
    },
    {
     "data": {
      "image/png": "[encoded data removed]",
      "text/plain": [
       "<Figure size 432x288 with 1 Axes>"
      ]
     },
     "metadata": {},
     "output_type": "display_data"
    }
   ],
   "source": [
    "hashtags_df['count'].apply(np.log).plot.hist(bins=100)"
   ]
  },
  {
   "cell_type": "markdown",
   "metadata": {},
   "source": [
    "As we can see from the graph above, the majority of hashtags are used only a few times (between $1$ and $10000$ times), while there are much fewer hashtags which appear more than $10000$ times."
   ]
  },
  {
   "cell_type": "code",
   "execution_count": 9,
   "metadata": {},
   "outputs": [
    {
     "data": {
      "text/plain": [
       "[Row(tag='KCAPinoyStar', count=495924, min_timestamp=1486279800659, max_timestamp=1488351594662),\n",
       " Row(tag='iHeartAwards', count=457805, min_timestamp=1485934219659, max_timestamp=1488351563659),\n",
       " Row(tag='BestFanArmy', count=272830, min_timestamp=1485934214659, max_timestamp=1488351561663),\n",
       " Row(tag='NadineLustre', count=262466, min_timestamp=1485942989659, max_timestamp=1488351593657),\n",
       " Row(tag='LizaSoberano', count=217898, min_timestamp=1486012485658, max_timestamp=1488351594662),\n",
       " Row(tag='VideoLove', count=178661, min_timestamp=1486418799659, max_timestamp=1488351588663),\n",
       " Row(tag='KCAEstrellaLatina', count=141810, min_timestamp=1486057899663, max_timestamp=1488351562662),\n",
       " Row(tag='OneDBestFans', count=117440, min_timestamp=1485934730659, max_timestamp=1488303599657),\n",
       " Row(tag='izmirescort', count=111827, min_timestamp=1485934481665, max_timestamp=1488350222660),\n",
       " Row(tag='사설토토사이트추천', count=107461, min_timestamp=1485934200657, max_timestamp=1488351553665),\n",
       " Row(tag='방탄소년단', count=103647, min_timestamp=1485934239664, max_timestamp=1488351582663),\n",
       " Row(tag='CamilaBestFans', count=102770, min_timestamp=1485934202661, max_timestamp=1488346034657),\n",
       " Row(tag='Lovatics', count=100511, min_timestamp=1485934224661, max_timestamp=1488351558666),\n",
       " Row(tag='BTS', count=95700, min_timestamp=1485934304659, max_timestamp=1488351582663),\n",
       " Row(tag='Oscars', count=90764, min_timestamp=1485939330661, max_timestamp=1488351540662),\n",
       " Row(tag='CD9', count=90381, min_timestamp=1486055407657, max_timestamp=1488351101659),\n",
       " Row(tag='BestMusicVideo', count=89861, min_timestamp=1485934438663, max_timestamp=1488350954664),\n",
       " Row(tag='GOT7', count=78695, min_timestamp=1485934203661, max_timestamp=1488351594660),\n",
       " Row(tag='사설토토추천사이트', count=77499, min_timestamp=1485934462661, max_timestamp=1488351587666),\n",
       " Row(tag='BestCover', count=75225, min_timestamp=1485934272659, max_timestamp=1488351075663)]"
      ]
     },
     "execution_count": 9,
     "metadata": {},
     "output_type": "execute_result"
    }
   ],
   "source": [
    "hashtags.sort('count', ascending=False).head(20)"
   ]
  },
  {
   "cell_type": "markdown",
   "metadata": {},
   "source": [
    "By looking at the most used hashtags in March 2017, we can see that most of them revolve around the iHeartRadio Music Awards (`#iHeartAwards`, `#BestFanArmy`, `#OneDBestFans`, `#CamilaBestFans`, `#BTS`, `#BestMusicVideo`, `#BestCover`, etc.), or other media events (the `#Oscars` for instance). "
   ]
  },
  {
   "cell_type": "markdown",
   "metadata": {},
   "source": [
    "An metric that we thought would be interesting to explore is the hashtag \"spread\", i.e. the time difference between the first and last time it was used that month (in milliseconds)."
   ]
  },
  {
   "cell_type": "code",
   "execution_count": 11,
   "metadata": {},
   "outputs": [],
   "source": [
    "hashtags_df['timediff'] = hashtags_df.max_timestamp - hashtags_df.min_timestamp"
   ]
  },
  {
   "cell_type": "code",
   "execution_count": 14,
   "metadata": {},
   "outputs": [
    {
     "data": {
      "text/plain": [
       "<matplotlib.axes._subplots.AxesSubplot at 0x7f32b6818160>"
      ]
     },
     "execution_count": 14,
     "metadata": {},
     "output_type": "execute_result"
    },
    {
     "data": {
      "image/png": "[encoded data removed]",
      "text/plain": [
       "<Figure size 432x288 with 1 Axes>"
      ]
     },
     "metadata": {},
     "output_type": "display_data"
    }
   ],
   "source": [
    "hashtags_df.timediff.plot.hist(bins=100)"
   ]
  },
  {
   "cell_type": "markdown",
   "metadata": {},
   "source": [
    "By looking at a histogram of the hashtag spreads for March 2017, we can see two interesting trends:\n",
    "\n",
    "- The vast majority of hashtags was used throughout the month or almost. This is the case with recurring hashtags (such as `#TBT`, `#Quran` or `#Sexy`), or with hashtags that correspond to events taking place over several months (e.g. `#MeToo`).\n",
    "- A few hashtags are also very localized in time, with less than $0.2 \\dot 10^9$ milliseconds of spread, i.e. less than two days. This is the case, for instance, of hashtags such as those related to the TV events, which usually start trending a few hours before the beginning of the broadcast, and loose traction the day after.\n",
    "\n",
    "By restricting this histogram to the $1000$ and $100$ most used hashtags over the month, we can see however almost all most-used hashtags are spread over the whole month. This begs the question, however, of our choice of metric: the spread is really sensitive to time outliers, so even though 90% of the tweets using `#iHeartAwards` happened the day of the event and the day after, we still have a spread of almost the entire month because some people used the hashtag at the end of the month to refer back to the event."
   ]
  },
  {
   "cell_type": "code",
   "execution_count": 30,
   "metadata": {},
   "outputs": [
    {
     "data": {
      "text/plain": [
       "<matplotlib.axes._subplots.AxesSubplot at 0x7f32b7e709e8>"
      ]
     },
     "execution_count": 30,
     "metadata": {},
     "output_type": "execute_result"
    },
    {
     "data": {
      "image/png": "[encoded data removed]",
      "text/plain": [
       "<Figure size 432x288 with 1 Axes>"
      ]
     },
     "metadata": {},
     "output_type": "display_data"
    }
   ],
   "source": [
    "top = hashtags_df.nlargest(1000, 'count')\n",
    "top.timediff.plot.hist(bins=100)"
   ]
  },
  {
   "cell_type": "code",
   "execution_count": 32,
   "metadata": {},
   "outputs": [
    {
     "data": {
      "text/plain": [
       "<matplotlib.axes._subplots.AxesSubplot at 0x7f32b6daf470>"
      ]
     },
     "execution_count": 32,
     "metadata": {},
     "output_type": "execute_result"
    },
    {
     "data": {
      "image/png": "[encoded data removed]",
      "text/plain": [
       "<Figure size 432x288 with 1 Axes>"
      ]
     },
     "metadata": {},
     "output_type": "display_data"
    }
   ],
   "source": [
    "top = hashtags_df.nlargest(100, 'count')\n",
    "top.timediff.plot.hist(bins=100)"
   ]
  },
  {
   "cell_type": "markdown",
   "metadata": {},
   "source": [
    "To gain insight about the hashtags with a large spread, we printed out the spread of most occuring hashtags in decreasing order."
   ]
  },
  {
   "cell_type": "code",
   "execution_count": 33,
   "metadata": {},
   "outputs": [
    {
     "data": {
      "text/html": [
       "<div>\n",
       "<style scoped>\n",
       "    .dataframe tbody tr th:only-of-type {\n",
       "        vertical-align: middle;\n",
       "    }\n",
       "\n",
       "    .dataframe tbody tr th {\n",
       "        vertical-align: top;\n",
       "    }\n",
       "\n",
       "    .dataframe thead th {\n",
       "        text-align: right;\n",
       "    }\n",
       "</style>\n",
       "<table border=\"1\" class=\"dataframe\">\n",
       "  <thead>\n",
       "    <tr style=\"text-align: right;\">\n",
       "      <th></th>\n",
       "      <th>tag</th>\n",
       "      <th>count</th>\n",
       "      <th>min_timestamp</th>\n",
       "      <th>max_timestamp</th>\n",
       "      <th>timediff</th>\n",
       "    </tr>\n",
       "  </thead>\n",
       "  <tbody>\n",
       "    <tr>\n",
       "      <th>26718</th>\n",
       "      <td>Quran</td>\n",
       "      <td>27165</td>\n",
       "      <td>1485934204661</td>\n",
       "      <td>1488351597663</td>\n",
       "      <td>2417393002</td>\n",
       "    </tr>\n",
       "    <tr>\n",
       "      <th>55275</th>\n",
       "      <td>GOT7</td>\n",
       "      <td>78695</td>\n",
       "      <td>1485934203661</td>\n",
       "      <td>1488351594660</td>\n",
       "      <td>2417390999</td>\n",
       "    </tr>\n",
       "    <tr>\n",
       "      <th>7977</th>\n",
       "      <td>갓세븐</td>\n",
       "      <td>44691</td>\n",
       "      <td>1485934203661</td>\n",
       "      <td>1488351594660</td>\n",
       "      <td>2417390999</td>\n",
       "    </tr>\n",
       "    <tr>\n",
       "      <th>89570</th>\n",
       "      <td>진영</td>\n",
       "      <td>10768</td>\n",
       "      <td>1485934203661</td>\n",
       "      <td>1488351592658</td>\n",
       "      <td>2417388997</td>\n",
       "    </tr>\n",
       "    <tr>\n",
       "      <th>214642</th>\n",
       "      <td>quote</td>\n",
       "      <td>25711</td>\n",
       "      <td>1485934204661</td>\n",
       "      <td>1488351585665</td>\n",
       "      <td>2417381004</td>\n",
       "    </tr>\n",
       "    <tr>\n",
       "      <th>43355</th>\n",
       "      <td>คลื่นชีวิต</td>\n",
       "      <td>14912</td>\n",
       "      <td>1485934201657</td>\n",
       "      <td>1488351578659</td>\n",
       "      <td>2417377002</td>\n",
       "    </tr>\n",
       "    <tr>\n",
       "      <th>211491</th>\n",
       "      <td>메이저놀이터추천</td>\n",
       "      <td>4886</td>\n",
       "      <td>1485934200657</td>\n",
       "      <td>1488351570664</td>\n",
       "      <td>2417370007</td>\n",
       "    </tr>\n",
       "    <tr>\n",
       "      <th>70859</th>\n",
       "      <td>Pakistan</td>\n",
       "      <td>3870</td>\n",
       "      <td>1485934235664</td>\n",
       "      <td>1488351599658</td>\n",
       "      <td>2417363994</td>\n",
       "    </tr>\n",
       "    <tr>\n",
       "      <th>13482</th>\n",
       "      <td>porn</td>\n",
       "      <td>17599</td>\n",
       "      <td>1485934218666</td>\n",
       "      <td>1488351582659</td>\n",
       "      <td>2417363993</td>\n",
       "    </tr>\n",
       "    <tr>\n",
       "      <th>101734</th>\n",
       "      <td>Sexy</td>\n",
       "      <td>2950</td>\n",
       "      <td>1485934231662</td>\n",
       "      <td>1488351592664</td>\n",
       "      <td>2417361002</td>\n",
       "    </tr>\n",
       "    <tr>\n",
       "      <th>7979</th>\n",
       "      <td>호시</td>\n",
       "      <td>5251</td>\n",
       "      <td>1485934223657</td>\n",
       "      <td>1488351578657</td>\n",
       "      <td>2417355000</td>\n",
       "    </tr>\n",
       "    <tr>\n",
       "      <th>112663</th>\n",
       "      <td>NCT127</td>\n",
       "      <td>14122</td>\n",
       "      <td>1485934206665</td>\n",
       "      <td>1488351561660</td>\n",
       "      <td>2417354995</td>\n",
       "    </tr>\n",
       "    <tr>\n",
       "      <th>43345</th>\n",
       "      <td>사설토토사이트추천</td>\n",
       "      <td>107461</td>\n",
       "      <td>1485934200657</td>\n",
       "      <td>1488351553665</td>\n",
       "      <td>2417353008</td>\n",
       "    </tr>\n",
       "    <tr>\n",
       "      <th>35705</th>\n",
       "      <td>TFB</td>\n",
       "      <td>29205</td>\n",
       "      <td>1485934217666</td>\n",
       "      <td>1488351568663</td>\n",
       "      <td>2417350997</td>\n",
       "    </tr>\n",
       "    <tr>\n",
       "      <th>12375</th>\n",
       "      <td>BestFanArmy</td>\n",
       "      <td>272830</td>\n",
       "      <td>1485934214659</td>\n",
       "      <td>1488351561663</td>\n",
       "      <td>2417347004</td>\n",
       "    </tr>\n",
       "    <tr>\n",
       "      <th>134398</th>\n",
       "      <td>PS4share</td>\n",
       "      <td>14830</td>\n",
       "      <td>1485934235661</td>\n",
       "      <td>1488351582661</td>\n",
       "      <td>2417347000</td>\n",
       "    </tr>\n",
       "    <tr>\n",
       "      <th>204873</th>\n",
       "      <td>iHeartAwards</td>\n",
       "      <td>457805</td>\n",
       "      <td>1485934219659</td>\n",
       "      <td>1488351563659</td>\n",
       "      <td>2417344000</td>\n",
       "    </tr>\n",
       "    <tr>\n",
       "      <th>175874</th>\n",
       "      <td>방탄소년단</td>\n",
       "      <td>103647</td>\n",
       "      <td>1485934239664</td>\n",
       "      <td>1488351582663</td>\n",
       "      <td>2417342999</td>\n",
       "    </tr>\n",
       "    <tr>\n",
       "      <th>123701</th>\n",
       "      <td>followme</td>\n",
       "      <td>13958</td>\n",
       "      <td>1485934258663</td>\n",
       "      <td>1488351596661</td>\n",
       "      <td>2417337998</td>\n",
       "    </tr>\n",
       "    <tr>\n",
       "      <th>178023</th>\n",
       "      <td>mPLUSRewards</td>\n",
       "      <td>13295</td>\n",
       "      <td>1485934237664</td>\n",
       "      <td>1488351575660</td>\n",
       "      <td>2417337996</td>\n",
       "    </tr>\n",
       "    <tr>\n",
       "      <th>25626</th>\n",
       "      <td>トレクル</td>\n",
       "      <td>40353</td>\n",
       "      <td>1485934219659</td>\n",
       "      <td>1488351555663</td>\n",
       "      <td>2417336004</td>\n",
       "    </tr>\n",
       "    <tr>\n",
       "      <th>179120</th>\n",
       "      <td>Lovatics</td>\n",
       "      <td>100511</td>\n",
       "      <td>1485934224661</td>\n",
       "      <td>1488351558666</td>\n",
       "      <td>2417334005</td>\n",
       "    </tr>\n",
       "    <tr>\n",
       "      <th>127965</th>\n",
       "      <td>VideoMTV2016</td>\n",
       "      <td>27297</td>\n",
       "      <td>1485934236662</td>\n",
       "      <td>1488351567664</td>\n",
       "      <td>2417331002</td>\n",
       "    </tr>\n",
       "    <tr>\n",
       "      <th>47659</th>\n",
       "      <td>الهلال</td>\n",
       "      <td>25865</td>\n",
       "      <td>1485934256664</td>\n",
       "      <td>1488351587666</td>\n",
       "      <td>2417331002</td>\n",
       "    </tr>\n",
       "    <tr>\n",
       "      <th>180172</th>\n",
       "      <td>わーーーージャニオタさんと繋がるお時間がまいりましたいっぱい繋がりましょ</td>\n",
       "      <td>11323</td>\n",
       "      <td>1485934256664</td>\n",
       "      <td>1488351583666</td>\n",
       "      <td>2417327002</td>\n",
       "    </tr>\n",
       "    <tr>\n",
       "      <th>117001</th>\n",
       "      <td>안전사설토토사이트추천</td>\n",
       "      <td>10357</td>\n",
       "      <td>1485934228662</td>\n",
       "      <td>1488351553665</td>\n",
       "      <td>2417325003</td>\n",
       "    </tr>\n",
       "    <tr>\n",
       "      <th>135505</th>\n",
       "      <td>NOW2016</td>\n",
       "      <td>34793</td>\n",
       "      <td>1485934234661</td>\n",
       "      <td>1488351554660</td>\n",
       "      <td>2417319999</td>\n",
       "    </tr>\n",
       "    <tr>\n",
       "      <th>44436</th>\n",
       "      <td>NOWFifthHarmony</td>\n",
       "      <td>20313</td>\n",
       "      <td>1485934236662</td>\n",
       "      <td>1488351554660</td>\n",
       "      <td>2417317998</td>\n",
       "    </tr>\n",
       "    <tr>\n",
       "      <th>160717</th>\n",
       "      <td>دعاء</td>\n",
       "      <td>28735</td>\n",
       "      <td>1485934279665</td>\n",
       "      <td>1488351594663</td>\n",
       "      <td>2417314998</td>\n",
       "    </tr>\n",
       "    <tr>\n",
       "      <th>79654</th>\n",
       "      <td>Trump</td>\n",
       "      <td>32624</td>\n",
       "      <td>1485934236663</td>\n",
       "      <td>1488351542665</td>\n",
       "      <td>2417306002</td>\n",
       "    </tr>\n",
       "    <tr>\n",
       "      <th>...</th>\n",
       "      <td>...</td>\n",
       "      <td>...</td>\n",
       "      <td>...</td>\n",
       "      <td>...</td>\n",
       "      <td>...</td>\n",
       "    </tr>\n",
       "    <tr>\n",
       "      <th>70988</th>\n",
       "      <td>PBBTitigNgPagIbig</td>\n",
       "      <td>4830</td>\n",
       "      <td>1487808134662</td>\n",
       "      <td>1488340103663</td>\n",
       "      <td>531969001</td>\n",
       "    </tr>\n",
       "    <tr>\n",
       "      <th>179062</th>\n",
       "      <td>المباحث_وفولورز_الفلانتين</td>\n",
       "      <td>3383</td>\n",
       "      <td>1486842381658</td>\n",
       "      <td>1487374127658</td>\n",
       "      <td>531746000</td>\n",
       "    </tr>\n",
       "    <tr>\n",
       "      <th>199568</th>\n",
       "      <td>ALDUBxDTBYin5Days</td>\n",
       "      <td>4476</td>\n",
       "      <td>1487692853665</td>\n",
       "      <td>1488199888666</td>\n",
       "      <td>507035001</td>\n",
       "    </tr>\n",
       "    <tr>\n",
       "      <th>175906</th>\n",
       "      <td>توق_الاعصار_تويت_هوست</td>\n",
       "      <td>11585</td>\n",
       "      <td>1486774512658</td>\n",
       "      <td>1487232946660</td>\n",
       "      <td>458434002</td>\n",
       "    </tr>\n",
       "    <tr>\n",
       "      <th>172760</th>\n",
       "      <td>MyExAndWhysBoxOfficeDay7</td>\n",
       "      <td>6499</td>\n",
       "      <td>1487568180660</td>\n",
       "      <td>1488004560665</td>\n",
       "      <td>436380005</td>\n",
       "    </tr>\n",
       "    <tr>\n",
       "      <th>194220</th>\n",
       "      <td>MyExAndWhysBoxOfficeDay6</td>\n",
       "      <td>2994</td>\n",
       "      <td>1487562059666</td>\n",
       "      <td>1487987764663</td>\n",
       "      <td>425704997</td>\n",
       "    </tr>\n",
       "    <tr>\n",
       "      <th>168415</th>\n",
       "      <td>ALDUB84thWeeksary</td>\n",
       "      <td>4826</td>\n",
       "      <td>1487779306663</td>\n",
       "      <td>1488199729657</td>\n",
       "      <td>420422994</td>\n",
       "    </tr>\n",
       "    <tr>\n",
       "      <th>14590</th>\n",
       "      <td>PondsGirlNaddie</td>\n",
       "      <td>5701</td>\n",
       "      <td>1487723435661</td>\n",
       "      <td>1488129039658</td>\n",
       "      <td>405603997</td>\n",
       "    </tr>\n",
       "    <tr>\n",
       "      <th>192027</th>\n",
       "      <td>عيد_سبيستون17</td>\n",
       "      <td>4034</td>\n",
       "      <td>1487959856666</td>\n",
       "      <td>1488351339660</td>\n",
       "      <td>391482994</td>\n",
       "    </tr>\n",
       "    <tr>\n",
       "      <th>32614</th>\n",
       "      <td>ALDUBxDTBYin7Days</td>\n",
       "      <td>4722</td>\n",
       "      <td>1487520165661</td>\n",
       "      <td>1487890996664</td>\n",
       "      <td>370831003</td>\n",
       "    </tr>\n",
       "    <tr>\n",
       "      <th>125868</th>\n",
       "      <td>MyExAndWhysSuperMegaHitDay6</td>\n",
       "      <td>5213</td>\n",
       "      <td>1487333220658</td>\n",
       "      <td>1487690674666</td>\n",
       "      <td>357454008</td>\n",
       "    </tr>\n",
       "    <tr>\n",
       "      <th>142944</th>\n",
       "      <td>モンスト獣王戦</td>\n",
       "      <td>9191</td>\n",
       "      <td>1486753256660</td>\n",
       "      <td>1487101955658</td>\n",
       "      <td>348698998</td>\n",
       "    </tr>\n",
       "    <tr>\n",
       "      <th>39053</th>\n",
       "      <td>MyExAndWhysWeek2Showing</td>\n",
       "      <td>7682</td>\n",
       "      <td>1487663924663</td>\n",
       "      <td>1488000904658</td>\n",
       "      <td>336979995</td>\n",
       "    </tr>\n",
       "    <tr>\n",
       "      <th>151862</th>\n",
       "      <td>ALDUBDreamComeTrue</td>\n",
       "      <td>6476</td>\n",
       "      <td>1487952104666</td>\n",
       "      <td>1488273502665</td>\n",
       "      <td>321397999</td>\n",
       "    </tr>\n",
       "    <tr>\n",
       "      <th>85295</th>\n",
       "      <td>MyExAndWhysFEBoritongMovie</td>\n",
       "      <td>4222</td>\n",
       "      <td>1488033480660</td>\n",
       "      <td>1488348776665</td>\n",
       "      <td>315296005</td>\n",
       "    </tr>\n",
       "    <tr>\n",
       "      <th>4755</th>\n",
       "      <td>ArtistaDelFestivalMaramaRombai</td>\n",
       "      <td>4277</td>\n",
       "      <td>1487872878660</td>\n",
       "      <td>1488163712663</td>\n",
       "      <td>290834003</td>\n",
       "    </tr>\n",
       "    <tr>\n",
       "      <th>69790</th>\n",
       "      <td>216CrIn16Days</td>\n",
       "      <td>3268</td>\n",
       "      <td>1488086669660</td>\n",
       "      <td>1488350366663</td>\n",
       "      <td>263697003</td>\n",
       "    </tr>\n",
       "    <tr>\n",
       "      <th>172788</th>\n",
       "      <td>AldenMaineSaPanagbenga</td>\n",
       "      <td>3463</td>\n",
       "      <td>1488038454659</td>\n",
       "      <td>1488275113657</td>\n",
       "      <td>236658998</td>\n",
       "    </tr>\n",
       "    <tr>\n",
       "      <th>214691</th>\n",
       "      <td>DestinedToBeYoursWorldPremiere</td>\n",
       "      <td>34915</td>\n",
       "      <td>1488124854660</td>\n",
       "      <td>1488349044663</td>\n",
       "      <td>224190003</td>\n",
       "    </tr>\n",
       "    <tr>\n",
       "      <th>173883</th>\n",
       "      <td>ALDUBxDTBYin3Days</td>\n",
       "      <td>4330</td>\n",
       "      <td>1487865725660</td>\n",
       "      <td>1488065564657</td>\n",
       "      <td>199838997</td>\n",
       "    </tr>\n",
       "    <tr>\n",
       "      <th>154242</th>\n",
       "      <td>MyExAndWhysWorldwideHit</td>\n",
       "      <td>3495</td>\n",
       "      <td>1488118577659</td>\n",
       "      <td>1488313334665</td>\n",
       "      <td>194757006</td>\n",
       "    </tr>\n",
       "    <tr>\n",
       "      <th>203901</th>\n",
       "      <td>ALDUBxDTBYTadhana</td>\n",
       "      <td>7235</td>\n",
       "      <td>1488211289658</td>\n",
       "      <td>1488351369662</td>\n",
       "      <td>140080004</td>\n",
       "    </tr>\n",
       "    <tr>\n",
       "      <th>114863</th>\n",
       "      <td>MyExAndWhysFeverContinues</td>\n",
       "      <td>9160</td>\n",
       "      <td>1488210240657</td>\n",
       "      <td>1488345950663</td>\n",
       "      <td>135710006</td>\n",
       "    </tr>\n",
       "    <tr>\n",
       "      <th>134569</th>\n",
       "      <td>MyExAndWhys2geder4ever</td>\n",
       "      <td>4602</td>\n",
       "      <td>1487861761663</td>\n",
       "      <td>1487992306660</td>\n",
       "      <td>130544997</td>\n",
       "    </tr>\n",
       "    <tr>\n",
       "      <th>171956</th>\n",
       "      <td>JointAddress</td>\n",
       "      <td>7451</td>\n",
       "      <td>1488229818665</td>\n",
       "      <td>1488351593666</td>\n",
       "      <td>121775001</td>\n",
       "    </tr>\n",
       "    <tr>\n",
       "      <th>109481</th>\n",
       "      <td>DTBYArchitectBenjie</td>\n",
       "      <td>7484</td>\n",
       "      <td>1488252634663</td>\n",
       "      <td>1488350664665</td>\n",
       "      <td>98030002</td>\n",
       "    </tr>\n",
       "    <tr>\n",
       "      <th>63189</th>\n",
       "      <td>NavoiyDay</td>\n",
       "      <td>22287</td>\n",
       "      <td>1486563159659</td>\n",
       "      <td>1486657492664</td>\n",
       "      <td>94333005</td>\n",
       "    </tr>\n",
       "    <tr>\n",
       "      <th>193074</th>\n",
       "      <td>HappyBirthdayJustinBieber</td>\n",
       "      <td>3900</td>\n",
       "      <td>1488267235666</td>\n",
       "      <td>1488351559664</td>\n",
       "      <td>84323998</td>\n",
       "    </tr>\n",
       "    <tr>\n",
       "      <th>12684</th>\n",
       "      <td>MyExAndWhysMarchMadness</td>\n",
       "      <td>5659</td>\n",
       "      <td>1488291780658</td>\n",
       "      <td>1488351594662</td>\n",
       "      <td>59814004</td>\n",
       "    </tr>\n",
       "    <tr>\n",
       "      <th>179584</th>\n",
       "      <td>ALDUBxDTBYLandas</td>\n",
       "      <td>4259</td>\n",
       "      <td>1488297685657</td>\n",
       "      <td>1488351593660</td>\n",
       "      <td>53908003</td>\n",
       "    </tr>\n",
       "  </tbody>\n",
       "</table>\n",
       "<p>1000 rows × 5 columns</p>\n",
       "</div>"
      ],
      "text/plain": [
       "                                         tag   count  min_timestamp  \\\n",
       "26718                                  Quran   27165  1485934204661   \n",
       "55275                                   GOT7   78695  1485934203661   \n",
       "7977                                     갓세븐   44691  1485934203661   \n",
       "89570                                     진영   10768  1485934203661   \n",
       "214642                                 quote   25711  1485934204661   \n",
       "43355                             คลื่นชีวิต   14912  1485934201657   \n",
       "211491                              메이저놀이터추천    4886  1485934200657   \n",
       "70859                               Pakistan    3870  1485934235664   \n",
       "13482                                   porn   17599  1485934218666   \n",
       "101734                                  Sexy    2950  1485934231662   \n",
       "7979                                      호시    5251  1485934223657   \n",
       "112663                                NCT127   14122  1485934206665   \n",
       "43345                              사설토토사이트추천  107461  1485934200657   \n",
       "35705                                    TFB   29205  1485934217666   \n",
       "12375                            BestFanArmy  272830  1485934214659   \n",
       "134398                              PS4share   14830  1485934235661   \n",
       "204873                          iHeartAwards  457805  1485934219659   \n",
       "175874                                 방탄소년단  103647  1485934239664   \n",
       "123701                              followme   13958  1485934258663   \n",
       "178023                          mPLUSRewards   13295  1485934237664   \n",
       "25626                                   トレクル   40353  1485934219659   \n",
       "179120                              Lovatics  100511  1485934224661   \n",
       "127965                          VideoMTV2016   27297  1485934236662   \n",
       "47659                                 الهلال   25865  1485934256664   \n",
       "180172  わーーーージャニオタさんと繋がるお時間がまいりましたいっぱい繋がりましょ   11323  1485934256664   \n",
       "117001                           안전사설토토사이트추천   10357  1485934228662   \n",
       "135505                               NOW2016   34793  1485934234661   \n",
       "44436                        NOWFifthHarmony   20313  1485934236662   \n",
       "160717                                  دعاء   28735  1485934279665   \n",
       "79654                                  Trump   32624  1485934236663   \n",
       "...                                      ...     ...            ...   \n",
       "70988                      PBBTitigNgPagIbig    4830  1487808134662   \n",
       "179062             المباحث_وفولورز_الفلانتين    3383  1486842381658   \n",
       "199568                     ALDUBxDTBYin5Days    4476  1487692853665   \n",
       "175906                 توق_الاعصار_تويت_هوست   11585  1486774512658   \n",
       "172760              MyExAndWhysBoxOfficeDay7    6499  1487568180660   \n",
       "194220              MyExAndWhysBoxOfficeDay6    2994  1487562059666   \n",
       "168415                     ALDUB84thWeeksary    4826  1487779306663   \n",
       "14590                        PondsGirlNaddie    5701  1487723435661   \n",
       "192027                         عيد_سبيستون17    4034  1487959856666   \n",
       "32614                      ALDUBxDTBYin7Days    4722  1487520165661   \n",
       "125868           MyExAndWhysSuperMegaHitDay6    5213  1487333220658   \n",
       "142944                               モンスト獣王戦    9191  1486753256660   \n",
       "39053                MyExAndWhysWeek2Showing    7682  1487663924663   \n",
       "151862                    ALDUBDreamComeTrue    6476  1487952104666   \n",
       "85295             MyExAndWhysFEBoritongMovie    4222  1488033480660   \n",
       "4755          ArtistaDelFestivalMaramaRombai    4277  1487872878660   \n",
       "69790                          216CrIn16Days    3268  1488086669660   \n",
       "172788                AldenMaineSaPanagbenga    3463  1488038454659   \n",
       "214691        DestinedToBeYoursWorldPremiere   34915  1488124854660   \n",
       "173883                     ALDUBxDTBYin3Days    4330  1487865725660   \n",
       "154242               MyExAndWhysWorldwideHit    3495  1488118577659   \n",
       "203901                     ALDUBxDTBYTadhana    7235  1488211289658   \n",
       "114863             MyExAndWhysFeverContinues    9160  1488210240657   \n",
       "134569                MyExAndWhys2geder4ever    4602  1487861761663   \n",
       "171956                          JointAddress    7451  1488229818665   \n",
       "109481                   DTBYArchitectBenjie    7484  1488252634663   \n",
       "63189                              NavoiyDay   22287  1486563159659   \n",
       "193074             HappyBirthdayJustinBieber    3900  1488267235666   \n",
       "12684                MyExAndWhysMarchMadness    5659  1488291780658   \n",
       "179584                      ALDUBxDTBYLandas    4259  1488297685657   \n",
       "\n",
       "        max_timestamp    timediff  \n",
       "26718   1488351597663  2417393002  \n",
       "55275   1488351594660  2417390999  \n",
       "7977    1488351594660  2417390999  \n",
       "89570   1488351592658  2417388997  \n",
       "214642  1488351585665  2417381004  \n",
       "43355   1488351578659  2417377002  \n",
       "211491  1488351570664  2417370007  \n",
       "70859   1488351599658  2417363994  \n",
       "13482   1488351582659  2417363993  \n",
       "101734  1488351592664  2417361002  \n",
       "7979    1488351578657  2417355000  \n",
       "112663  1488351561660  2417354995  \n",
       "43345   1488351553665  2417353008  \n",
       "35705   1488351568663  2417350997  \n",
       "12375   1488351561663  2417347004  \n",
       "134398  1488351582661  2417347000  \n",
       "204873  1488351563659  2417344000  \n",
       "175874  1488351582663  2417342999  \n",
       "123701  1488351596661  2417337998  \n",
       "178023  1488351575660  2417337996  \n",
       "25626   1488351555663  2417336004  \n",
       "179120  1488351558666  2417334005  \n",
       "127965  1488351567664  2417331002  \n",
       "47659   1488351587666  2417331002  \n",
       "180172  1488351583666  2417327002  \n",
       "117001  1488351553665  2417325003  \n",
       "135505  1488351554660  2417319999  \n",
       "44436   1488351554660  2417317998  \n",
       "160717  1488351594663  2417314998  \n",
       "79654   1488351542665  2417306002  \n",
       "...               ...         ...  \n",
       "70988   1488340103663   531969001  \n",
       "179062  1487374127658   531746000  \n",
       "199568  1488199888666   507035001  \n",
       "175906  1487232946660   458434002  \n",
       "172760  1488004560665   436380005  \n",
       "194220  1487987764663   425704997  \n",
       "168415  1488199729657   420422994  \n",
       "14590   1488129039658   405603997  \n",
       "192027  1488351339660   391482994  \n",
       "32614   1487890996664   370831003  \n",
       "125868  1487690674666   357454008  \n",
       "142944  1487101955658   348698998  \n",
       "39053   1488000904658   336979995  \n",
       "151862  1488273502665   321397999  \n",
       "85295   1488348776665   315296005  \n",
       "4755    1488163712663   290834003  \n",
       "69790   1488350366663   263697003  \n",
       "172788  1488275113657   236658998  \n",
       "214691  1488349044663   224190003  \n",
       "173883  1488065564657   199838997  \n",
       "154242  1488313334665   194757006  \n",
       "203901  1488351369662   140080004  \n",
       "114863  1488345950663   135710006  \n",
       "134569  1487992306660   130544997  \n",
       "171956  1488351593666   121775001  \n",
       "109481  1488350664665    98030002  \n",
       "63189   1486657492664    94333005  \n",
       "193074  1488351559664    84323998  \n",
       "12684   1488351594662    59814004  \n",
       "179584  1488351593660    53908003  \n",
       "\n",
       "[1000 rows x 5 columns]"
      ]
     },
     "execution_count": 33,
     "metadata": {},
     "output_type": "execute_result"
    }
   ],
   "source": [
    "top = hashtags_df.nlargest(1000, 'count')\n",
    "top.sort_values(by='timediff', ascending=False)"
   ]
  },
  {
   "cell_type": "markdown",
   "metadata": {},
   "source": [
    "As we predicted, the popular hashtags with the largest spread are mostly general topics, such as `#Quran`, `#Pakistan`, `#porn` or `#Sexy`; while some of those with the smallest spread are linked to overday or overnight events (e.g. TV broadcasts), such as `#DestinedToBeYoursWorldPremiere` or `#MyExAndWhysWorldwideHit`."
   ]
  },
  {
   "cell_type": "markdown",
   "metadata": {},
   "source": [
    "### Isolating a few popular hashtags to investigate.\n",
    "\n",
    "Besides our general analysis of the occurences and spread of hashtags over 2017, we thought we would benefit from finer-grained insight about a few well-chosen hashtags. The first one we decided to analyse is `#BalanceTonPorc`, as it is a textbook case of \"organic spreading\" of a hashtag in the year 2017. We compiled all the tweets regarding that hashtags into a parquet file, and started to analyse them."
   ]
  },
  {
   "cell_type": "markdown",
   "metadata": {},
   "source": [
    "## First analysis of balance ton porc"
   ]
  },
{
   "cell_type": "markdown",
   "metadata": {},
   "source": [
    "We consider tweets having hashtag #balancetonporc posted during the month of October."
   ]
  },
  {
   "cell_type": "code",
   "execution_count": 4,
   "metadata": {},
   "outputs": [],
   "source": [
    "tweets = spark.read.parquet('sample_balancetonporc_10.parquet')"
   ]
  },
  {
   "cell_type": "code",
   "execution_count": 5,
   "metadata": {},
   "outputs": [
    {
     "data": {
      "text/plain": [
       "2569"
      ]
     },
     "execution_count": 5,
     "metadata": {},
     "output_type": "execute_result"
    }
   ],
   "source": [
    "tweets.count()"
   ]
  },
  {
   "cell_type": "code",
   "execution_count": 12,
   "metadata": {},
   "outputs": [],
   "source": [
    "timestamps = tweets.select(col('timestamp_ms'))\n",
    "timestamps_pd = timestamps.toPandas()"
   ]
  },
  {
   "cell_type": "code",
   "execution_count": 13,
   "metadata": {},
   "outputs": [
    {
     "data": {
      "text/plain": [
       "<matplotlib.axes._subplots.AxesSubplot at 0x7f51f8fbaa90>"
      ]
     },
     "execution_count": 13,
     "metadata": {},
     "output_type": "execute_result"
    },
    {
     "data": {
      "image/png": "[encoded data removed]",
      "text/plain": [
       "<Figure size 432x288 with 1 Axes>"
      ]
     },
     "metadata": {},
     "output_type": "display_data"
    }
   ],
   "source": [
    "timestamps_pd.plot.hist(bins=100)"
   ]
  },
  {
   "cell_type": "markdown",
   "metadata": {},
   "source": [
    "On the above plot we can see several peak. These huge decrease can be explained by two reasons:\n",
    "- `#balancetonporc` was localized in France, so on one timezone\n",
    "- During the nights a person is less likely to tweet\n",
    "\n",
    "However, we can see what seems like a power law: at first the number of tweets is high and then decrease progressively. It might also be interesting to extract the data for the month of september."
   ]
  },
  {
   "cell_type": "markdown",
   "metadata": {},
   "source": [
    "We are also thinking of analyzing other metrics:\n",
    "- Number of retweets and likes according to the time\n",
    "- \"Profile\" of the person twitting. Is there someone with a huge number of followers who tweeted right before a peak?\n",
    "- Geographicall progression of the activity. Has the activity started on a specific place and then spread to other part of France? Or was the starting point distributed in the country?"
   ]
  }
 ],
 "metadata": {
  "kernelspec": {
   "display_name": "Python [default]",
   "language": "python",
   "name": "python3"
  },
  "language_info": {
   "codemirror_mode": {
    "name": "ipython",
    "version": 3
   },
   "file_extension": ".py",
   "mimetype": "text/x-python",
   "name": "python",
   "nbconvert_exporter": "python",
   "pygments_lexer": "ipython3",
   "version": "3.6.6"
  }
 },
 "nbformat": 4,
 "nbformat_minor": 2
}
