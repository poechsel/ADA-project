{
 "cells": [
  {
   "cell_type": "code",
   "execution_count": 45,
   "metadata": {},
   "outputs": [],
   "source": [
    "import numpy as np\n",
    "import pandas as pd\n",
    "import seaborn as sns\n",
    "import matplotlib.pyplot as plt\n",
    "import matplotlib\n",
    "\n",
    "from pyspark.mllib.stat import Statistics\n",
    "%matplotlib inline\n",
    "\n",
    "import findspark\n",
    "findspark.init()\n",
    "\n",
    "# Import and start a Spark session.\n",
    "from pyspark.sql import *\n",
    "import pyspark.sql.functions as F\n",
    "\n",
    "spark = SparkSession.builder.getOrCreate()\n",
    "plt.rcParams['figure.figsize'] = [12, 8]"
   ]
  },
  {
   "cell_type": "code",
   "execution_count": 3,
   "metadata": {},
   "outputs": [],
   "source": [
    "insights = spark.read.parquet(\"hashtags-insights.parquet\")"
   ]
  },
  {
   "cell_type": "code",
   "execution_count": 14,
   "metadata": {},
   "outputs": [],
   "source": [
    "def key(c):\n",
    "    month, _, day = c.split(\"_\")\n",
    "    return int(month), int(day)\n",
    "\n",
    "count_columns_wkey = [(c, key(c)) for c in insights.columns if \"count_\" in c]"
   ]
  },
  {
   "cell_type": "code",
   "execution_count": 15,
   "metadata": {},
   "outputs": [],
   "source": [
    "count_columns_wkey.sort(key=lambda x: x[1])"
   ]
  },
  {
   "cell_type": "code",
   "execution_count": 16,
   "metadata": {},
   "outputs": [],
   "source": [
    "count_columns = [a for a, _ in count_columns_wkey]"
   ]
  },
  {
   "cell_type": "code",
   "execution_count": 18,
   "metadata": {},
   "outputs": [
    {
     "data": {
      "text/plain": [
       "Row(tag='balancetonporc', 11_print_1=66307, 11_print_2=38336, 11_print_3=89983, 11_print_4=7301, 11_print_5=14123, 11_print_6=2828, 11_print_7=5255, 11_print_8=10301, 11_print_9=21325, 11_print_10=4264, 11_print_11=20326, 11_print_12=32537, 11_print_13=25872, 11_print_14=1794, 11_print_15=46805, 11_print_16=1312, 11_print_17=5901, 11_print_18=0, 11_print_26=224, 11_print_27=3121, 11_print_28=968, 11_print_29=5088, 11_print_30=1780, 11_count_1=123, 11_count_2=81, 11_count_3=26, 11_count_4=14, 11_count_5=22, 11_count_6=6, 11_count_7=11, 11_count_8=11, 11_count_9=25, 11_count_10=9, 11_count_11=11, 11_count_12=16, 11_count_13=14, 11_count_14=5, 11_count_15=7, 11_count_16=2, 11_count_17=4, 11_count_18=0, 11_count_26=2, 11_count_27=5, 11_count_28=6, 11_count_29=5, 11_count_30=2, 10_print_1=251, 10_print_2=0, 10_print_3=0, 10_print_4=0, 10_print_5=0, 10_print_6=0, 10_print_7=0, 10_print_8=0, 10_print_9=0, 10_print_10=0, 10_print_11=0, 10_print_12=0, 10_print_13=0, 10_print_14=43873, 10_print_15=806226, 10_print_16=508528, 10_print_17=724122, 10_print_18=269494, 10_print_19=151100, 10_print_20=161901, 10_print_21=673840, 10_print_22=86490, 10_print_23=52108, 10_print_24=14491, 10_print_25=23907, 10_print_26=15211, 10_print_27=5441, 10_print_28=346371, 10_print_29=22512, 10_print_30=125821, 10_print_31=11234, 10_count_1=1, 10_count_2=0, 10_count_3=0, 10_count_4=0, 10_count_5=0, 10_count_6=0, 10_count_7=0, 10_count_8=0, 10_count_9=0, 10_count_10=0, 10_count_11=0, 10_count_12=0, 10_count_13=0, 10_count_14=46, 10_count_15=748, 10_count_16=494, 10_count_17=440, 10_count_18=213, 10_count_19=115, 10_count_20=132, 10_count_21=84, 10_count_22=52, 10_count_23=38, 10_count_24=28, 10_count_25=31, 10_count_26=16, 10_count_27=13, 10_count_28=14, 10_count_29=40, 10_count_30=42, 10_count_31=26, 09_print_1=0, 09_print_2=0, 09_print_3=0, 09_print_4=0, 09_print_5=0, 09_print_6=0, 09_print_7=0, 09_print_8=0, 09_print_9=0, 09_print_10=0, 09_print_11=0, 09_print_12=0, 09_print_13=0, 09_print_14=0, 09_print_15=0, 09_print_16=0, 09_print_17=0, 09_print_18=0, 09_print_19=0, 09_print_20=0, 09_print_21=0, 09_print_22=0, 09_print_23=0, 09_print_24=0, 09_print_25=0, 09_print_26=0, 09_print_27=0, 09_print_28=0, 09_print_29=0, 09_print_30=0, 09_count_1=0, 09_count_2=0, 09_count_3=0, 09_count_4=0, 09_count_5=0, 09_count_6=0, 09_count_7=0, 09_count_8=0, 09_count_9=0, 09_count_10=0, 09_count_11=0, 09_count_12=0, 09_count_13=0, 09_count_14=0, 09_count_15=0, 09_count_16=0, 09_count_17=0, 09_count_18=0, 09_count_19=0, 09_count_20=0, 09_count_21=0, 09_count_22=0, 09_count_23=0, 09_count_24=0, 09_count_25=0, 09_count_26=0, 09_count_27=0, 09_count_28=0, 09_count_29=0, 09_count_30=0, 08_print_1=0, 08_print_2=0, 08_print_3=0, 08_print_4=0, 08_print_5=0, 08_print_6=0, 08_print_7=0, 08_print_8=0, 08_print_9=0, 08_print_10=0, 08_print_11=0, 08_print_12=0, 08_print_13=0, 08_print_14=0, 08_print_15=0, 08_print_16=0, 08_print_17=0, 08_print_18=0, 08_print_19=0, 08_print_20=0, 08_print_21=0, 08_print_22=0, 08_print_23=0, 08_print_24=0, 08_print_25=0, 08_print_26=0, 08_print_27=0, 08_print_28=0, 08_print_29=0, 08_print_30=0, 08_print_31=0, 08_count_1=0, 08_count_2=0, 08_count_3=0, 08_count_4=0, 08_count_5=0, 08_count_6=0, 08_count_7=0, 08_count_8=0, 08_count_9=0, 08_count_10=0, 08_count_11=0, 08_count_12=0, 08_count_13=0, 08_count_14=0, 08_count_15=0, 08_count_16=0, 08_count_17=0, 08_count_18=0, 08_count_19=0, 08_count_20=0, 08_count_21=0, 08_count_22=0, 08_count_23=0, 08_count_24=0, 08_count_25=0, 08_count_26=0, 08_count_27=0, 08_count_28=0, 08_count_29=0, 08_count_30=0, 08_count_31=0, 07_print_1=0, 07_print_2=0, 07_print_3=0, 07_print_4=0, 07_print_5=0, 07_print_6=0, 07_print_7=0, 07_print_8=0, 07_print_9=0, 07_print_10=0, 07_print_11=0, 07_print_12=0, 07_print_13=0, 07_print_14=0, 07_print_15=0, 07_print_16=0, 07_print_17=0, 07_print_18=0, 07_print_19=0, 07_print_20=0, 07_print_21=0, 07_print_22=0, 07_print_23=0, 07_print_24=0, 07_print_25=0, 07_print_26=0, 07_print_27=0, 07_print_28=0, 07_print_29=0, 07_print_30=0, 07_print_31=0, 07_count_1=0, 07_count_2=0, 07_count_3=0, 07_count_4=0, 07_count_5=0, 07_count_6=0, 07_count_7=0, 07_count_8=0, 07_count_9=0, 07_count_10=0, 07_count_11=0, 07_count_12=0, 07_count_13=0, 07_count_14=0, 07_count_15=0, 07_count_16=0, 07_count_17=0, 07_count_18=0, 07_count_19=0, 07_count_20=0, 07_count_21=0, 07_count_22=0, 07_count_23=0, 07_count_24=0, 07_count_25=0, 07_count_26=0, 07_count_27=0, 07_count_28=0, 07_count_29=0, 07_count_30=0, 07_count_31=0, 05_print_1=0, 05_print_2=0, 05_print_3=0, 05_print_4=0, 05_print_5=0, 05_print_6=0, 05_print_7=0, 05_print_8=0, 05_print_9=0, 05_print_10=0, 05_print_11=0, 05_print_12=0, 05_print_13=0, 05_print_14=0, 05_print_15=0, 05_print_16=0, 05_print_17=0, 05_print_18=0, 05_print_19=0, 05_print_20=0, 05_print_21=0, 05_print_22=0, 05_print_23=0, 05_print_24=0, 05_print_25=0, 05_print_26=0, 05_print_27=0, 05_print_28=0, 05_print_29=0, 05_print_30=0, 05_print_31=0, 05_count_1=0, 05_count_2=0, 05_count_3=0, 05_count_4=0, 05_count_5=0, 05_count_6=0, 05_count_7=0, 05_count_8=0, 05_count_9=0, 05_count_10=0, 05_count_11=0, 05_count_12=0, 05_count_13=0, 05_count_14=0, 05_count_15=0, 05_count_16=0, 05_count_17=0, 05_count_18=0, 05_count_19=0, 05_count_20=0, 05_count_21=0, 05_count_22=0, 05_count_23=0, 05_count_24=0, 05_count_25=0, 05_count_26=0, 05_count_27=0, 05_count_28=0, 05_count_29=0, 05_count_30=0, 05_count_31=0, 04_print_1=0, 04_print_2=0, 04_print_3=0, 04_print_4=0, 04_print_5=0, 04_print_6=0, 04_print_7=0, 04_print_8=0, 04_print_9=0, 04_print_10=0, 04_print_11=0, 04_print_12=0, 04_print_13=0, 04_print_14=0, 04_print_15=0, 04_print_17=0, 04_print_18=0, 04_print_19=0, 04_print_20=0, 04_print_21=0, 04_print_22=0, 04_print_23=0, 04_print_24=0, 04_print_25=0, 04_print_26=0, 04_print_27=0, 04_print_28=0, 04_print_29=0, 04_print_30=0, 04_count_1=0, 04_count_2=0, 04_count_3=0, 04_count_4=0, 04_count_5=0, 04_count_6=0, 04_count_7=0, 04_count_8=0, 04_count_9=0, 04_count_10=0, 04_count_11=0, 04_count_12=0, 04_count_13=0, 04_count_14=0, 04_count_15=0, 04_count_17=0, 04_count_18=0, 04_count_19=0, 04_count_20=0, 04_count_21=0, 04_count_22=0, 04_count_23=0, 04_count_24=0, 04_count_25=0, 04_count_26=0, 04_count_27=0, 04_count_28=0, 04_count_29=0, 04_count_30=0, 03_print_1=0, 03_print_2=0, 03_print_3=0, 03_print_4=0, 03_print_5=0, 03_print_6=0, 03_print_7=0, 03_print_8=0, 03_print_9=0, 03_print_10=0, 03_print_11=0, 03_print_12=0, 03_print_13=0, 03_print_14=0, 03_print_15=0, 03_print_16=0, 03_print_17=0, 03_print_18=0, 03_print_19=0, 03_print_20=0, 03_print_21=0, 03_print_22=0, 03_print_23=0, 03_print_24=0, 03_print_25=0, 03_print_26=0, 03_print_27=0, 03_print_28=0, 03_print_29=0, 03_print_30=0, 03_print_31=0, 03_count_1=0, 03_count_2=0, 03_count_3=0, 03_count_4=0, 03_count_5=0, 03_count_6=0, 03_count_7=0, 03_count_8=0, 03_count_9=0, 03_count_10=0, 03_count_11=0, 03_count_12=0, 03_count_13=0, 03_count_14=0, 03_count_15=0, 03_count_16=0, 03_count_17=0, 03_count_18=0, 03_count_19=0, 03_count_20=0, 03_count_21=0, 03_count_22=0, 03_count_23=0, 03_count_24=0, 03_count_25=0, 03_count_26=0, 03_count_27=0, 03_count_28=0, 03_count_29=0, 03_count_30=0, 03_count_31=0, 02_print_1=0, 02_print_2=0, 02_print_3=0, 02_print_5=0, 02_print_6=0, 02_print_7=0, 02_print_8=0, 02_print_9=0, 02_print_10=0, 02_print_11=0, 02_print_12=0, 02_print_13=0, 02_print_14=0, 02_print_15=0, 02_print_16=0, 02_print_17=0, 02_print_18=0, 02_print_19=0, 02_print_20=0, 02_print_21=0, 02_print_22=0, 02_print_23=0, 02_print_24=0, 02_print_25=0, 02_print_26=0, 02_print_27=0, 02_print_28=0, 02_count_1=0, 02_count_2=0, 02_count_3=0, 02_count_5=0, 02_count_6=0, 02_count_7=0, 02_count_8=0, 02_count_9=0, 02_count_10=0, 02_count_11=0, 02_count_12=0, 02_count_13=0, 02_count_14=0, 02_count_15=0, 02_count_16=0, 02_count_17=0, 02_count_18=0, 02_count_19=0, 02_count_20=0, 02_count_21=0, 02_count_22=0, 02_count_23=0, 02_count_24=0, 02_count_25=0, 02_count_26=0, 02_count_27=0, 02_count_28=0, count=2980, print=4448672)"
      ]
     },
     "execution_count": 18,
     "metadata": {},
     "output_type": "execute_result"
    }
   ],
   "source": [
    "insights.where(F.col('tag')=='balancetonporc').head()"
   ]
  },
  {
   "cell_type": "code",
   "execution_count": 30,
   "metadata": {},
   "outputs": [],
   "source": [
    "insights_compressed = insights.withColumn(\"count_daily\", F.array(*[F.col(c) / F.col('count') for c in count_columns]))"
   ]
  },
  {
   "cell_type": "code",
   "execution_count": 31,
   "metadata": {},
   "outputs": [],
   "source": [
    "insights_compressed = insights_compressed.select(*[c for c in insights_compressed.columns if not c in count_columns])"
   ]
  },
  {
   "cell_type": "code",
   "execution_count": 32,
   "metadata": {},
   "outputs": [],
   "source": [
    "print_columns_wkey = [(c, key(c)) for c in insights.columns if \"print_\" in c]\n",
    "print_columns_wkey.sort(key=lambda x: x[1])\n",
    "print_columns = [a for a, _ in print_columns_wkey]"
   ]
  },
  {
   "cell_type": "code",
   "execution_count": 33,
   "metadata": {},
   "outputs": [],
   "source": [
    "insights_compressed = insights_compressed.withColumn(\"print_daily\", F.array(*[F.col(c) / F.col('print') for c in print_columns]))"
   ]
  },
  {
   "cell_type": "code",
   "execution_count": 34,
   "metadata": {},
   "outputs": [],
   "source": [
    "insights_compressed = insights_compressed.select(*[c for c in insights_compressed.columns if not c in print_columns])"
   ]
  },
  {
   "cell_type": "code",
   "execution_count": 35,
   "metadata": {},
   "outputs": [
    {
     "data": {
      "text/plain": [
       "Row(tag='balancetonporc', count=2980, print=4448672, count_daily=[0.0, 0.0, 0.0, 0.0, 0.0, 0.0, 0.0, 0.0, 0.0, 0.0, 0.0, 0.0, 0.0, 0.0, 0.0, 0.0, 0.0, 0.0, 0.0, 0.0, 0.0, 0.0, 0.0, 0.0, 0.0, 0.0, 0.0, 0.0, 0.0, 0.0, 0.0, 0.0, 0.0, 0.0, 0.0, 0.0, 0.0, 0.0, 0.0, 0.0, 0.0, 0.0, 0.0, 0.0, 0.0, 0.0, 0.0, 0.0, 0.0, 0.0, 0.0, 0.0, 0.0, 0.0, 0.0, 0.0, 0.0, 0.0, 0.0, 0.0, 0.0, 0.0, 0.0, 0.0, 0.0, 0.0, 0.0, 0.0, 0.0, 0.0, 0.0, 0.0, 0.0, 0.0, 0.0, 0.0, 0.0, 0.0, 0.0, 0.0, 0.0, 0.0, 0.0, 0.0, 0.0, 0.0, 0.0, 0.0, 0.0, 0.0, 0.0, 0.0, 0.0, 0.0, 0.0, 0.0, 0.0, 0.0, 0.0, 0.0, 0.0, 0.0, 0.0, 0.0, 0.0, 0.0, 0.0, 0.0, 0.0, 0.0, 0.0, 0.0, 0.0, 0.0, 0.0, 0.0, 0.0, 0.0, 0.0, 0.0, 0.0, 0.0, 0.0, 0.0, 0.0, 0.0, 0.0, 0.0, 0.0, 0.0, 0.0, 0.0, 0.0, 0.0, 0.0, 0.0, 0.0, 0.0, 0.0, 0.0, 0.0, 0.0, 0.0, 0.0, 0.0, 0.0, 0.0, 0.0, 0.0, 0.0, 0.0, 0.0, 0.0, 0.0, 0.0, 0.0, 0.0, 0.0, 0.0, 0.0, 0.0, 0.0, 0.0, 0.0, 0.0, 0.0, 0.0, 0.0, 0.0, 0.0, 0.0, 0.0, 0.0, 0.0, 0.0, 0.0, 0.0, 0.0, 0.0, 0.0, 0.0, 0.0, 0.0, 0.0, 0.0, 0.0, 0.0, 0.0, 0.0, 0.0, 0.0, 0.0, 0.0, 0.0, 0.0, 0.0, 0.0, 0.0, 0.0, 0.0, 0.0, 0.0, 0.0, 0.0, 0.0, 0.0, 0.0, 0.0, 0.0, 0.0, 0.0003355704697986577, 0.0, 0.0, 0.0, 0.0, 0.0, 0.0, 0.0, 0.0, 0.0, 0.0, 0.0, 0.0, 0.015436241610738255, 0.25100671140939596, 0.1657718120805369, 0.1476510067114094, 0.0714765100671141, 0.03859060402684564, 0.04429530201342282, 0.028187919463087248, 0.0174496644295302, 0.012751677852348993, 0.009395973154362415, 0.01040268456375839, 0.005369127516778523, 0.00436241610738255, 0.004697986577181208, 0.013422818791946308, 0.014093959731543624, 0.0087248322147651, 0.0412751677852349, 0.027181208053691275, 0.0087248322147651, 0.004697986577181208, 0.00738255033557047, 0.0020134228187919465, 0.003691275167785235, 0.003691275167785235, 0.008389261744966443, 0.0030201342281879194, 0.003691275167785235, 0.005369127516778523, 0.004697986577181208, 0.0016778523489932886, 0.002348993288590604, 0.0006711409395973154, 0.0013422818791946308, 0.0, 0.0006711409395973154, 0.0016778523489932886, 0.0020134228187919465, 0.0016778523489932886, 0.0006711409395973154], print_daily=[0.0, 0.0, 0.0, 0.0, 0.0, 0.0, 0.0, 0.0, 0.0, 0.0, 0.0, 0.0, 0.0, 0.0, 0.0, 0.0, 0.0, 0.0, 0.0, 0.0, 0.0, 0.0, 0.0, 0.0, 0.0, 0.0, 0.0, 0.0, 0.0, 0.0, 0.0, 0.0, 0.0, 0.0, 0.0, 0.0, 0.0, 0.0, 0.0, 0.0, 0.0, 0.0, 0.0, 0.0, 0.0, 0.0, 0.0, 0.0, 0.0, 0.0, 0.0, 0.0, 0.0, 0.0, 0.0, 0.0, 0.0, 0.0, 0.0, 0.0, 0.0, 0.0, 0.0, 0.0, 0.0, 0.0, 0.0, 0.0, 0.0, 0.0, 0.0, 0.0, 0.0, 0.0, 0.0, 0.0, 0.0, 0.0, 0.0, 0.0, 0.0, 0.0, 0.0, 0.0, 0.0, 0.0, 0.0, 0.0, 0.0, 0.0, 0.0, 0.0, 0.0, 0.0, 0.0, 0.0, 0.0, 0.0, 0.0, 0.0, 0.0, 0.0, 0.0, 0.0, 0.0, 0.0, 0.0, 0.0, 0.0, 0.0, 0.0, 0.0, 0.0, 0.0, 0.0, 0.0, 0.0, 0.0, 0.0, 0.0, 0.0, 0.0, 0.0, 0.0, 0.0, 0.0, 0.0, 0.0, 0.0, 0.0, 0.0, 0.0, 0.0, 0.0, 0.0, 0.0, 0.0, 0.0, 0.0, 0.0, 0.0, 0.0, 0.0, 0.0, 0.0, 0.0, 0.0, 0.0, 0.0, 0.0, 0.0, 0.0, 0.0, 0.0, 0.0, 0.0, 0.0, 0.0, 0.0, 0.0, 0.0, 0.0, 0.0, 0.0, 0.0, 0.0, 0.0, 0.0, 0.0, 0.0, 0.0, 0.0, 0.0, 0.0, 0.0, 0.0, 0.0, 0.0, 0.0, 0.0, 0.0, 0.0, 0.0, 0.0, 0.0, 0.0, 0.0, 0.0, 0.0, 0.0, 0.0, 0.0, 0.0, 0.0, 0.0, 0.0, 0.0, 0.0, 0.0, 0.0, 0.0, 0.0, 0.0, 0.0, 0.0, 0.0, 0.0, 0.0, 0.0, 0.0, 5.642133202897404e-05, 0.0, 0.0, 0.0, 0.0, 0.0, 0.0, 0.0, 0.0, 0.0, 0.0, 0.0, 0.0, 0.009862044223534573, 0.18122846548363197, 0.11431006826306817, 0.16277262068320614, 0.06057852770444753, 0.03396519230907561, 0.03639310787578855, 0.15146992181037397, 0.019441757000740894, 0.011713158443688363, 0.003257376583393876, 0.00537396328612224, 0.0034192226354291797, 0.001223061623783457, 0.07785941512433374, 0.005060386560303839, 0.02828282237935276, 0.0025252479841175075, 0.014904897461534589, 0.00861740312614641, 0.020226935139295504, 0.0016411639248746592, 0.0031746552679091647, 0.000635695326605333, 0.001181251393674337, 0.0023155224750217593, 0.00479356536062897, 0.0009584882859424115, 0.004569003963429985, 0.007313868048712065, 0.005815668136468591, 0.00040326641298796587, 0.010521117313211674, 0.0002949194725976651, 0.001326463268139346, 0.0, 5.035210507765014e-05, 0.0007015576783363665, 0.00021759302551413096, 0.0011437121010494818, 0.0004001194064206127])"
      ]
     },
     "execution_count": 35,
     "metadata": {},
     "output_type": "execute_result"
    }
   ],
   "source": [
    "insights_compressed.where(F.col('tag')=='balancetonporc').head()"
   ]
  },
  {
   "cell_type": "code",
   "execution_count": 36,
   "metadata": {},
   "outputs": [
    {
     "data": {
      "text/plain": [
       "['tag', 'count', 'print', 'count_daily', 'print_daily']"
      ]
     },
     "execution_count": 36,
     "metadata": {},
     "output_type": "execute_result"
    }
   ],
   "source": [
    "insights_compressed.columns"
   ]
  },
  {
   "cell_type": "code",
   "execution_count": 38,
   "metadata": {},
   "outputs": [],
   "source": [
    "insights_compressed.write.parquet(\"insights-compressed.parquet\")"
   ]
  },
  {
   "cell_type": "code",
   "execution_count": 39,
   "metadata": {},
   "outputs": [],
   "source": [
    "count_days = [b for _, b in count_columns_wkey]\n",
    "print_days = [b for _, b in print_columns_wkey]"
   ]
  },
  {
   "cell_type": "code",
   "execution_count": null,
   "metadata": {},
   "outputs": [],
   "source": []
  },
  {
   "cell_type": "code",
   "execution_count": 43,
   "metadata": {},
   "outputs": [],
   "source": [
    "features = insights.select(count_columns).rdd.map(lambda row: row[0:])"
   ]
  },
  {
   "cell_type": "code",
   "execution_count": null,
   "metadata": {},
   "outputs": [],
   "source": [
    "corr_mat=Statistics.corr(features, method=\"pearson\")"
   ]
  },
  {
   "cell_type": "code",
   "execution_count": null,
   "metadata": {},
   "outputs": [],
   "source": []
  },
  {
   "cell_type": "code",
   "execution_count": null,
   "metadata": {},
   "outputs": [],
   "source": []
  },
  {
   "cell_type": "code",
   "execution_count": 11,
   "metadata": {},
   "outputs": [
    {
     "data": {
      "text/plain": [
       "15177260"
      ]
     },
     "execution_count": 11,
     "metadata": {},
     "output_type": "execute_result"
    }
   ],
   "source": [
    "insights.count()"
   ]
  },
  {
   "cell_type": "code",
   "execution_count": 15,
   "metadata": {},
   "outputs": [
    {
     "data": {
      "text/plain": [
       "5888031"
      ]
     },
     "execution_count": 15,
     "metadata": {},
     "output_type": "execute_result"
    }
   ],
   "source": [
    "insights.where(F.col('count') > 1).count()"
   ]
  },
  {
   "cell_type": "code",
   "execution_count": 16,
   "metadata": {},
   "outputs": [
    {
     "data": {
      "text/plain": [
       "257434"
      ]
     },
     "execution_count": 16,
     "metadata": {},
     "output_type": "execute_result"
    }
   ],
   "source": [
    "insights.where(F.col('count') > 100).count()"
   ]
  },
  {
   "cell_type": "code",
   "execution_count": 17,
   "metadata": {},
   "outputs": [],
   "source": [
    "bins, counts = insights.where(F.col('count') > 100) \\\n",
    "        .select(F.log10('count')).rdd \\\n",
    "        .flatMap(lambda x: x) \\\n",
    "        .histogram(100)"
   ]
  },
  {
   "cell_type": "code",
   "execution_count": 19,
   "metadata": {},
   "outputs": [
    {
     "data": {
      "text/plain": [
       "Text(0, 0.5, 'Number of occurences')"
      ]
     },
     "execution_count": 19,
     "metadata": {},
     "output_type": "execute_result"
    },
    {
     "data": {
      "image/png": "[encoded data removed]",
      "text/plain": [
       "<Figure size 432x288 with 1 Axes>"
      ]
     },
     "metadata": {
      "needs_background": "light"
     },
     "output_type": "display_data"
    }
   ],
   "source": [
    "plt.hist(bins[:-1], bins=bins, weights=counts)\n",
    "plt.title('Distribution of the number of occurences of hashtags' )\n",
    "plt.xlabel('Number of hashtags')\n",
    "plt.ylabel('Number of occurences')"
   ]
  },
  {
   "cell_type": "code",
   "execution_count": 30,
   "metadata": {},
   "outputs": [],
   "source": [
    "bins, counts = insights.where(F.col('print') > 1000) \\\n",
    "        .select(F.log10('print')).rdd \\\n",
    "        .flatMap(lambda x: x) \\\n",
    "        .histogram(100)"
   ]
  },
  {
   "cell_type": "code",
   "execution_count": 31,
   "metadata": {},
   "outputs": [
    {
     "data": {
      "text/plain": [
       "Text(0, 0.5, 'Number of occurences')"
      ]
     },
     "execution_count": 31,
     "metadata": {},
     "output_type": "execute_result"
    },
    {
     "data": {
      "image/png": "[encoded data removed]",
      "text/plain": [
       "<Figure size 432x288 with 1 Axes>"
      ]
     },
     "metadata": {
      "needs_background": "light"
     },
     "output_type": "display_data"
    }
   ],
   "source": [
    "plt.hist(bins[:-1], bins=bins, weights=counts)\n",
    "plt.title('Distribution of the number of occurences of hashtags' )\n",
    "plt.xlabel('Number of hashtags')\n",
    "plt.ylabel('Number of occurences')"
   ]
  },
  {
   "cell_type": "code",
   "execution_count": 32,
   "metadata": {},
   "outputs": [],
   "source": [
    "test = insights.where(F.col('count') > 100).toPandas()"
   ]
  },
  {
   "cell_type": "code",
   "execution_count": 34,
   "metadata": {},
   "outputs": [
    {
     "data": {
      "text/plain": [
       "<matplotlib.axes._subplots.AxesSubplot at 0x7f6385771eb8>"
      ]
     },
     "execution_count": 34,
     "metadata": {},
     "output_type": "execute_result"
    },
    {
     "data": {
      "image/png": "[encoded data removed]",
      "text/plain": [
       "<Figure size 432x288 with 1 Axes>"
      ]
     },
     "metadata": {
      "needs_background": "light"
     },
     "output_type": "display_data"
    }
   ],
   "source": [
    "test.plot.scatter(x=\"count\", y=\"print\")"
   ]
  },
  {
   "cell_type": "code",
   "execution_count": 37,
   "metadata": {},
   "outputs": [
    {
     "data": {
      "text/html": [
       "<div>\n",
       "<style scoped>\n",
       "    .dataframe tbody tr th:only-of-type {\n",
       "        vertical-align: middle;\n",
       "    }\n",
       "\n",
       "    .dataframe tbody tr th {\n",
       "        vertical-align: top;\n",
       "    }\n",
       "\n",
       "    .dataframe thead th {\n",
       "        text-align: right;\n",
       "    }\n",
       "</style>\n",
       "<table border=\"1\" class=\"dataframe\">\n",
       "  <thead>\n",
       "    <tr style=\"text-align: right;\">\n",
       "      <th></th>\n",
       "      <th>tag</th>\n",
       "      <th>11_print_1</th>\n",
       "      <th>11_print_2</th>\n",
       "      <th>11_print_3</th>\n",
       "      <th>11_print_4</th>\n",
       "      <th>11_print_5</th>\n",
       "      <th>11_print_6</th>\n",
       "      <th>11_print_7</th>\n",
       "      <th>11_print_8</th>\n",
       "      <th>11_print_9</th>\n",
       "      <th>...</th>\n",
       "      <th>02_count_21</th>\n",
       "      <th>02_count_22</th>\n",
       "      <th>02_count_23</th>\n",
       "      <th>02_count_24</th>\n",
       "      <th>02_count_25</th>\n",
       "      <th>02_count_26</th>\n",
       "      <th>02_count_27</th>\n",
       "      <th>02_count_28</th>\n",
       "      <th>count</th>\n",
       "      <th>print</th>\n",
       "    </tr>\n",
       "  </thead>\n",
       "  <tbody>\n",
       "    <tr>\n",
       "      <th>193708</th>\n",
       "      <td>izmirescort</td>\n",
       "      <td>683095</td>\n",
       "      <td>1173665</td>\n",
       "      <td>495435</td>\n",
       "      <td>449088</td>\n",
       "      <td>605584</td>\n",
       "      <td>305955</td>\n",
       "      <td>68561</td>\n",
       "      <td>41577</td>\n",
       "      <td>66398</td>\n",
       "      <td>...</td>\n",
       "      <td>4916</td>\n",
       "      <td>7339</td>\n",
       "      <td>5696</td>\n",
       "      <td>5451</td>\n",
       "      <td>4886</td>\n",
       "      <td>4517</td>\n",
       "      <td>5264</td>\n",
       "      <td>6686</td>\n",
       "      <td>4813484</td>\n",
       "      <td>473402849</td>\n",
       "    </tr>\n",
       "    <tr>\n",
       "      <th>181676</th>\n",
       "      <td>BTSBBMAs</td>\n",
       "      <td>313285</td>\n",
       "      <td>8747</td>\n",
       "      <td>286921</td>\n",
       "      <td>13567</td>\n",
       "      <td>253865</td>\n",
       "      <td>54084</td>\n",
       "      <td>12916</td>\n",
       "      <td>4770</td>\n",
       "      <td>8963</td>\n",
       "      <td>...</td>\n",
       "      <td>0</td>\n",
       "      <td>0</td>\n",
       "      <td>0</td>\n",
       "      <td>0</td>\n",
       "      <td>0</td>\n",
       "      <td>0</td>\n",
       "      <td>0</td>\n",
       "      <td>0</td>\n",
       "      <td>2943069</td>\n",
       "      <td>1054566200</td>\n",
       "    </tr>\n",
       "    <tr>\n",
       "      <th>181942</th>\n",
       "      <td>MTVHottest</td>\n",
       "      <td>48775</td>\n",
       "      <td>35054</td>\n",
       "      <td>44860</td>\n",
       "      <td>69997</td>\n",
       "      <td>41356</td>\n",
       "      <td>52917</td>\n",
       "      <td>29678</td>\n",
       "      <td>42271</td>\n",
       "      <td>34500</td>\n",
       "      <td>...</td>\n",
       "      <td>89</td>\n",
       "      <td>86</td>\n",
       "      <td>99</td>\n",
       "      <td>98</td>\n",
       "      <td>57</td>\n",
       "      <td>35</td>\n",
       "      <td>34</td>\n",
       "      <td>46</td>\n",
       "      <td>1188991</td>\n",
       "      <td>408684695</td>\n",
       "    </tr>\n",
       "    <tr>\n",
       "      <th>256291</th>\n",
       "      <td>BTS</td>\n",
       "      <td>4667800</td>\n",
       "      <td>2774639</td>\n",
       "      <td>6995572</td>\n",
       "      <td>4675435</td>\n",
       "      <td>1901820</td>\n",
       "      <td>2946446</td>\n",
       "      <td>1844329</td>\n",
       "      <td>2342752</td>\n",
       "      <td>1958604</td>\n",
       "      <td>...</td>\n",
       "      <td>2632</td>\n",
       "      <td>4931</td>\n",
       "      <td>6164</td>\n",
       "      <td>5951</td>\n",
       "      <td>4760</td>\n",
       "      <td>5391</td>\n",
       "      <td>4229</td>\n",
       "      <td>2911</td>\n",
       "      <td>1048438</td>\n",
       "      <td>856258406</td>\n",
       "    </tr>\n",
       "    <tr>\n",
       "      <th>253669</th>\n",
       "      <td>방탄소년단</td>\n",
       "      <td>5333705</td>\n",
       "      <td>3708412</td>\n",
       "      <td>6501709</td>\n",
       "      <td>5048843</td>\n",
       "      <td>3176814</td>\n",
       "      <td>3018128</td>\n",
       "      <td>1925205</td>\n",
       "      <td>2081661</td>\n",
       "      <td>1854240</td>\n",
       "      <td>...</td>\n",
       "      <td>3190</td>\n",
       "      <td>5655</td>\n",
       "      <td>11064</td>\n",
       "      <td>9037</td>\n",
       "      <td>7407</td>\n",
       "      <td>8583</td>\n",
       "      <td>4950</td>\n",
       "      <td>3238</td>\n",
       "      <td>992185</td>\n",
       "      <td>805900903</td>\n",
       "    </tr>\n",
       "  </tbody>\n",
       "</table>\n",
       "<p>5 rows × 531 columns</p>\n",
       "</div>"
      ],
      "text/plain": [
       "                tag  11_print_1  11_print_2  11_print_3  11_print_4  \\\n",
       "193708  izmirescort      683095     1173665      495435      449088   \n",
       "181676     BTSBBMAs      313285        8747      286921       13567   \n",
       "181942   MTVHottest       48775       35054       44860       69997   \n",
       "256291          BTS     4667800     2774639     6995572     4675435   \n",
       "253669        방탄소년단     5333705     3708412     6501709     5048843   \n",
       "\n",
       "        11_print_5  11_print_6  11_print_7  11_print_8  11_print_9  \\\n",
       "193708      605584      305955       68561       41577       66398   \n",
       "181676      253865       54084       12916        4770        8963   \n",
       "181942       41356       52917       29678       42271       34500   \n",
       "256291     1901820     2946446     1844329     2342752     1958604   \n",
       "253669     3176814     3018128     1925205     2081661     1854240   \n",
       "\n",
       "           ...      02_count_21  02_count_22  02_count_23  02_count_24  \\\n",
       "193708     ...             4916         7339         5696         5451   \n",
       "181676     ...                0            0            0            0   \n",
       "181942     ...               89           86           99           98   \n",
       "256291     ...             2632         4931         6164         5951   \n",
       "253669     ...             3190         5655        11064         9037   \n",
       "\n",
       "        02_count_25  02_count_26  02_count_27  02_count_28    count  \\\n",
       "193708         4886         4517         5264         6686  4813484   \n",
       "181676            0            0            0            0  2943069   \n",
       "181942           57           35           34           46  1188991   \n",
       "256291         4760         5391         4229         2911  1048438   \n",
       "253669         7407         8583         4950         3238   992185   \n",
       "\n",
       "             print  \n",
       "193708   473402849  \n",
       "181676  1054566200  \n",
       "181942   408684695  \n",
       "256291   856258406  \n",
       "253669   805900903  \n",
       "\n",
       "[5 rows x 531 columns]"
      ]
     },
     "execution_count": 37,
     "metadata": {},
     "output_type": "execute_result"
    }
   ],
   "source": [
    "test.sort_values(\"count\", ascending=False).head()"
   ]
  },
  {
   "cell_type": "code",
   "execution_count": 50,
   "metadata": {},
   "outputs": [
    {
     "data": {
      "text/plain": [
       "<matplotlib.axes._subplots.AxesSubplot at 0x7f638f548b00>"
      ]
     },
     "execution_count": 50,
     "metadata": {},
     "output_type": "execute_result"
    },
    {
     "data": {
      "image/png": "[encoded data removed]",
      "text/plain": [
       "<Figure size 864x576 with 1 Axes>"
      ]
     },
     "metadata": {
      "needs_background": "light"
     },
     "output_type": "display_data"
    }
   ],
   "source": [
    "columns = [c for c in test.columns if \"count_\" in c]\n",
    "test[test.tag==\"izmirescort\"].boxplot(columns, grid=False)"
   ]
  }
 ],
 "metadata": {
  "kernelspec": {
   "display_name": "Python 3",
   "language": "python",
   "name": "python3"
  },
  "language_info": {
   "codemirror_mode": {
    "name": "ipython",
    "version": 3
   },
   "file_extension": ".py",
   "mimetype": "text/x-python",
   "name": "python",
   "nbconvert_exporter": "python",
   "pygments_lexer": "ipython3",
   "version": "3.7.1"
  }
 },
 "nbformat": 4,
 "nbformat_minor": 2
}
