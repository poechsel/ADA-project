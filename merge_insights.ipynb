{
 "cells": [
  {
   "cell_type": "code",
   "execution_count": 1,
   "metadata": {},
   "outputs": [
    {
     "name": "stderr",
     "output_type": "stream",
     "text": [
      "/home/pierre/.local/lib/python3.7/site-packages/matplotlib/__init__.py:886: MatplotlibDeprecationWarning: \n",
      "examples.directory is deprecated; in the future, examples will be found relative to the 'datapath' directory.\n",
      "  \"found relative to the 'datapath' directory.\".format(key))\n"
     ]
    }
   ],
   "source": [
    "import numpy as np\n",
    "import pandas as pd\n",
    "import seaborn as sns\n",
    "import matplotlib.pyplot as plt\n",
    "import matplotlib\n",
    "%matplotlib inline\n",
    "\n",
    "import findspark\n",
    "findspark.init()\n",
    "\n",
    "# Import and start a Spark session.\n",
    "from pyspark.sql import *\n",
    "import pyspark.sql.functions as F\n",
    "\n",
    "spark = SparkSession.builder.getOrCreate()"
   ]
  },
  {
   "cell_type": "code",
   "execution_count": 2,
   "metadata": {},
   "outputs": [],
   "source": [
    "def load_insights(months):\n",
    "    return {month: spark.read.parquet('hashtags_insights_{}.parquet'.format(month)) for month in months} "
   ]
  },
  {
   "cell_type": "markdown",
   "metadata": {},
   "source": [
    "We start by loading the different hashtags insights for each months. The month of January is omitted as it is corrupted, the month of June is also omitted as it is too small (we only have data for an extract of two days), and the month december does not exists."
   ]
  },
  {
   "cell_type": "code",
   "execution_count": 3,
   "metadata": {},
   "outputs": [],
   "source": [
    "hashtags = load_insights(['02', '03', '04', '05', '07', '08', '09', '10', '11'])\n",
    "#hashtags = load_insights(['02', '03'])"
   ]
  },
  {
   "cell_type": "code",
   "execution_count": 5,
   "metadata": {},
   "outputs": [],
   "source": [
    "all_days = [str(i) for i in range(1, 32)]\n",
    "all_months = [str(i).zfill(2) for i in range(2, 4)]"
   ]
  },
  {
   "cell_type": "code",
   "execution_count": 6,
   "metadata": {},
   "outputs": [],
   "source": [
    "allColumns = \\\n",
    "    [\"tag\", \"count\", \"print\"] + \\\n",
    "    [month + \"_print_\" + day for day in all_days for month in all_months] + \\\n",
    "    [month + \"_count_\" + day for day in all_days for month in all_months]"
   ]
  },
  {
   "cell_type": "markdown",
   "metadata": {},
   "source": [
    "We define a function which will allow us to unify the columns of every sub dataframes by renaming some columns and adding some others."
   ]
  },
  {
   "cell_type": "code",
   "execution_count": 77,
   "metadata": {},
   "outputs": [],
   "source": [
    "def rename_columns(insights, prefix):\n",
    "    printCols = [c for c in insights.columns if \"print_\" in c]\n",
    "    nameCols = [c for c in insights.columns if \"count_\" in c]\n",
    "    print(insights, prefix)\n",
    "    for x in printCols + nameCols:\n",
    "        insights = insights.withColumnRenamed(x, prefix + \"_\" + x)\n",
    "    columns = insights.columns\n",
    "    for i, x in enumerate(allColumns):\n",
    "        if i % 50 == 0:\n",
    "            print(i, len(allColumns))\n",
    "        if not x in columns:\n",
    "            insights = insights.withColumn(x, F.lit(0).cast(\"long\"))\n",
    "    return insights"
   ]
  },
  {
   "cell_type": "markdown",
   "metadata": {},
   "source": [
    "We then apply this function to all of our insights."
   ]
  },
  {
   "cell_type": "code",
   "execution_count": 78,
   "metadata": {},
   "outputs": [
    {
     "name": "stdout",
     "output_type": "stream",
     "text": [
      "DataFrame[tag: string, count: bigint, print: bigint, print_1: bigint, print_2: bigint, print_3: bigint, print_4: bigint, print_5: bigint, print_6: bigint, print_7: bigint, print_8: bigint, print_9: bigint, print_10: bigint, print_11: bigint, print_12: bigint, print_13: bigint, print_14: bigint, print_15: bigint, print_16: bigint, print_17: bigint, print_18: bigint, print_19: bigint, print_20: bigint, print_21: bigint, print_22: bigint, print_23: bigint, print_24: bigint, print_25: bigint, print_26: bigint, print_27: bigint, print_28: bigint, print_29: bigint, print_30: bigint, print_31: bigint, count_1: bigint, count_2: bigint, count_3: bigint, count_4: bigint, count_5: bigint, count_6: bigint, count_7: bigint, count_8: bigint, count_9: bigint, count_10: bigint, count_11: bigint, count_12: bigint, count_13: bigint, count_14: bigint, count_15: bigint, count_16: bigint, count_17: bigint, count_18: bigint, count_19: bigint, count_20: bigint, count_21: bigint, count_22: bigint, count_23: bigint, count_24: bigint, count_25: bigint, count_26: bigint, count_27: bigint, count_28: bigint, count_29: bigint, count_30: bigint, count_31: bigint] 02\n",
      "0 127\n",
      "50 127\n",
      "100 127\n",
      "DataFrame[tag: string, count: bigint, print: bigint, print_1: bigint, print_2: bigint, print_3: bigint, print_4: bigint, print_5: bigint, print_6: bigint, print_7: bigint, print_8: bigint, print_9: bigint, print_10: bigint, print_11: bigint, print_12: bigint, print_13: bigint, print_14: bigint, print_15: bigint, print_16: bigint, print_17: bigint, print_18: bigint, print_19: bigint, print_20: bigint, print_21: bigint, print_22: bigint, print_23: bigint, print_24: bigint, print_25: bigint, print_26: bigint, print_27: bigint, print_28: bigint, print_29: bigint, print_30: bigint, print_31: bigint, count_1: bigint, count_2: bigint, count_3: bigint, count_4: bigint, count_5: bigint, count_6: bigint, count_7: bigint, count_8: bigint, count_9: bigint, count_10: bigint, count_11: bigint, count_12: bigint, count_13: bigint, count_14: bigint, count_15: bigint, count_16: bigint, count_17: bigint, count_18: bigint, count_19: bigint, count_20: bigint, count_21: bigint, count_22: bigint, count_23: bigint, count_24: bigint, count_25: bigint, count_26: bigint, count_27: bigint, count_28: bigint, count_29: bigint, count_30: bigint, count_31: bigint] 03\n",
      "0 127\n",
      "50 127\n",
      "100 127\n"
     ]
    }
   ],
   "source": [
    "insights = [rename_columns(hashtags[key], key) for key in hashtags]"
   ]
  },
  {
   "cell_type": "markdown",
   "metadata": {},
   "source": [
    "We merge every insights in one unique dataframe. We have to make sure that every columns is in the same order."
   ]
  },
  {
   "cell_type": "code",
   "execution_count": 64,
   "metadata": {},
   "outputs": [],
   "source": [
    "from functools import reduce\n",
    "\n",
    "def unionAll(dfs):\n",
    "    return reduce(DataFrame.union, dfs)\n",
    "unifiedInsights = unionAll([i.select(allColumns) for i in insights])"
   ]
  },
  {
   "cell_type": "markdown",
   "metadata": {},
   "source": [
    "As some hashtags might appear in different months, we need to merge duplicates occurencies of the same hashtags."
   ]
  },
  {
   "cell_type": "code",
   "execution_count": 71,
   "metadata": {},
   "outputs": [],
   "source": [
    "columnsToSum = [x for x in unifiedInsights.columns if x != \"tag\"]\n",
    "aggExpressions = [F.sum(F.col(col)).alias(col) for col in columnsToSum]"
   ]
  },
  {
   "cell_type": "code",
   "execution_count": 15,
   "metadata": {},
   "outputs": [],
   "source": [
    "unifiedInsightsGB = unifiedInsights.groupBy('tag').agg(*aggExpressions)"
   ]
  },
  {
   "cell_type": "code",
   "execution_count": 16,
   "metadata": {},
   "outputs": [],
   "source": [
    "unifiedInsightsGB.write.mode(\"overwrite\").parquet(\"unifiedinsights.parquet\")"
   ]
  },
  {
   "cell_type": "code",
   "execution_count": 26,
   "metadata": {},
   "outputs": [],
   "source": [
    "unifiedInsights = spark.read.parquet(\"unifiedinsights.parquet\")"
   ]
  },
  {
   "cell_type": "code",
   "execution_count": 32,
   "metadata": {},
   "outputs": [
    {
     "data": {
      "text/plain": [
       "0"
      ]
     },
     "execution_count": 32,
     "metadata": {},
     "output_type": "execute_result"
    }
   ],
   "source": [
    "unifiedInsights.where(F.col('11_print_4') != 0).count()"
   ]
  },
  {
   "cell_type": "code",
   "execution_count": 33,
   "metadata": {},
   "outputs": [
    {
     "data": {
      "text/plain": [
       "233063"
      ]
     },
     "execution_count": 33,
     "metadata": {},
     "output_type": "execute_result"
    }
   ],
   "source": [
    "hashtags[\"11\"].where(F.col(\"print_4\") != 0).count()"
   ]
  },
  {
   "cell_type": "code",
   "execution_count": 18,
   "metadata": {},
   "outputs": [],
   "source": [
    "for x in allColumns:\n",
    "    if unifiedInsights.where(F.col(x) != 0).count() == 0:\n",
    "        unifiedInsights = unifiedInsights.drop(x)"
   ]
  },
  {
   "cell_type": "code",
   "execution_count": 29,
   "metadata": {},
   "outputs": [
    {
     "data": {
      "text/plain": [
       "['02_print_11',\n",
       " '02_count_11',\n",
       " '11_print_1',\n",
       " '11_print_2',\n",
       " '11_print_3',\n",
       " '11_print_4',\n",
       " '11_print_5',\n",
       " '11_print_6',\n",
       " '11_print_7',\n",
       " '11_print_8',\n",
       " '11_print_9',\n",
       " '11_print_10',\n",
       " '01_print_11',\n",
       " '03_print_11',\n",
       " '04_print_11',\n",
       " '05_print_11',\n",
       " '06_print_11',\n",
       " '07_print_11',\n",
       " '08_print_11',\n",
       " '09_print_11',\n",
       " '10_print_11',\n",
       " '11_print_11',\n",
       " '12_print_11',\n",
       " '11_print_12',\n",
       " '11_print_13',\n",
       " '11_print_14',\n",
       " '11_print_15',\n",
       " '11_print_16',\n",
       " '11_print_17',\n",
       " '11_print_18',\n",
       " '11_print_19',\n",
       " '11_print_20',\n",
       " '11_print_21',\n",
       " '11_print_22',\n",
       " '11_print_23',\n",
       " '11_print_24',\n",
       " '11_print_25',\n",
       " '11_print_26',\n",
       " '11_print_27',\n",
       " '11_print_28',\n",
       " '11_print_29',\n",
       " '11_print_30',\n",
       " '11_print_31',\n",
       " '11_count_1',\n",
       " '11_count_2',\n",
       " '11_count_3',\n",
       " '11_count_4',\n",
       " '11_count_5',\n",
       " '11_count_6',\n",
       " '11_count_7',\n",
       " '11_count_8',\n",
       " '11_count_9',\n",
       " '11_count_10',\n",
       " '01_count_11',\n",
       " '03_count_11',\n",
       " '04_count_11',\n",
       " '05_count_11',\n",
       " '06_count_11',\n",
       " '07_count_11',\n",
       " '08_count_11',\n",
       " '09_count_11',\n",
       " '10_count_11',\n",
       " '11_count_11',\n",
       " '12_count_11',\n",
       " '11_count_12',\n",
       " '11_count_13',\n",
       " '11_count_14',\n",
       " '11_count_15',\n",
       " '11_count_16',\n",
       " '11_count_17',\n",
       " '11_count_18',\n",
       " '11_count_19',\n",
       " '11_count_20',\n",
       " '11_count_21',\n",
       " '11_count_22',\n",
       " '11_count_23',\n",
       " '11_count_24',\n",
       " '11_count_25',\n",
       " '11_count_26',\n",
       " '11_count_27',\n",
       " '11_count_28',\n",
       " '11_count_29',\n",
       " '11_count_30',\n",
       " '11_count_31']"
      ]
     },
     "execution_count": 29,
     "metadata": {},
     "output_type": "execute_result"
    }
   ],
   "source": [
    "[x for x in unifiedInsights.columns if \"11\" in x]"
   ]
  },
  {
   "cell_type": "code",
   "execution_count": 25,
   "metadata": {},
   "outputs": [
    {
     "data": {
      "text/plain": [
       "['count',\n",
       " 'print',\n",
       " '02_print_1',\n",
       " '02_print_2',\n",
       " '02_print_3',\n",
       " '02_print_4',\n",
       " '02_print_5',\n",
       " '02_print_6',\n",
       " '02_print_7',\n",
       " '02_print_8',\n",
       " '02_print_9',\n",
       " '02_print_10',\n",
       " '02_print_11',\n",
       " '02_print_12',\n",
       " '02_print_13',\n",
       " '02_print_14',\n",
       " '02_print_15',\n",
       " '02_print_16',\n",
       " '02_print_17',\n",
       " '02_print_18',\n",
       " '02_print_19',\n",
       " '02_print_20',\n",
       " '02_print_21',\n",
       " '02_print_22',\n",
       " '02_print_23',\n",
       " '02_print_24',\n",
       " '02_print_25',\n",
       " '02_print_26',\n",
       " '02_print_27',\n",
       " '02_print_28',\n",
       " '02_print_29',\n",
       " '02_print_30',\n",
       " '02_print_31',\n",
       " '02_count_1',\n",
       " '02_count_2',\n",
       " '02_count_3',\n",
       " '02_count_4',\n",
       " '02_count_5',\n",
       " '02_count_6',\n",
       " '02_count_7',\n",
       " '02_count_8',\n",
       " '02_count_9',\n",
       " '02_count_10',\n",
       " '02_count_11',\n",
       " '02_count_12',\n",
       " '02_count_13',\n",
       " '02_count_14',\n",
       " '02_count_15',\n",
       " '02_count_16',\n",
       " '02_count_17',\n",
       " '02_count_18',\n",
       " '02_count_19',\n",
       " '02_count_20',\n",
       " '02_count_21',\n",
       " '02_count_22',\n",
       " '02_count_23',\n",
       " '02_count_24',\n",
       " '02_count_25',\n",
       " '02_count_26',\n",
       " '02_count_27',\n",
       " '02_count_28',\n",
       " '02_count_29',\n",
       " '02_count_30',\n",
       " '02_count_31']"
      ]
     },
     "execution_count": 25,
     "metadata": {},
     "output_type": "execute_result"
    }
   ],
   "source": [
    "unifiedInsights.columns"
   ]
  },
  {
   "cell_type": "code",
   "execution_count": 21,
   "metadata": {},
   "outputs": [
    {
     "data": {
      "text/plain": [
       "[]"
      ]
     },
     "execution_count": 21,
     "metadata": {},
     "output_type": "execute_result"
    }
   ],
   "source": [
    "[x for x in unifiedInsights.columns if \"01\" in x]"
   ]
  },
  {
   "cell_type": "code",
   "execution_count": 22,
   "metadata": {},
   "outputs": [],
   "source": [
    "unifiedInsights.write.mode(\"overwrite\").parquet(\"insights.parquet\")"
   ]
  },
  {
   "cell_type": "code",
   "execution_count": 23,
   "metadata": {},
   "outputs": [
    {
     "data": {
      "text/plain": [
       "0"
      ]
     },
     "execution_count": 23,
     "metadata": {},
     "output_type": "execute_result"
    }
   ],
   "source": [
    "unifiedInsights.where(F.col('03_count_1') != 0).count()\n"
   ]
  },
  {
   "cell_type": "code",
   "execution_count": 24,
   "metadata": {},
   "outputs": [
    {
     "data": {
      "text/plain": [
       "['tag',\n",
       " 'count',\n",
       " 'print',\n",
       " 'print_1',\n",
       " 'print_2',\n",
       " 'print_3',\n",
       " 'print_4',\n",
       " 'print_5',\n",
       " 'print_6',\n",
       " 'print_7',\n",
       " 'print_8',\n",
       " 'print_9',\n",
       " 'print_10',\n",
       " 'print_11',\n",
       " 'print_12',\n",
       " 'print_13',\n",
       " 'print_14',\n",
       " 'print_15',\n",
       " 'print_16',\n",
       " 'print_17',\n",
       " 'print_18',\n",
       " 'print_19',\n",
       " 'print_20',\n",
       " 'print_21',\n",
       " 'print_22',\n",
       " 'print_23',\n",
       " 'print_24',\n",
       " 'print_25',\n",
       " 'print_26',\n",
       " 'print_27',\n",
       " 'print_28',\n",
       " 'print_29',\n",
       " 'print_30',\n",
       " 'print_31',\n",
       " 'count_1',\n",
       " 'count_2',\n",
       " 'count_3',\n",
       " 'count_4',\n",
       " 'count_5',\n",
       " 'count_6',\n",
       " 'count_7',\n",
       " 'count_8',\n",
       " 'count_9',\n",
       " 'count_10',\n",
       " 'count_11',\n",
       " 'count_12',\n",
       " 'count_13',\n",
       " 'count_14',\n",
       " 'count_15',\n",
       " 'count_16',\n",
       " 'count_17',\n",
       " 'count_18',\n",
       " 'count_19',\n",
       " 'count_20',\n",
       " 'count_21',\n",
       " 'count_22',\n",
       " 'count_23',\n",
       " 'count_24',\n",
       " 'count_25',\n",
       " 'count_26',\n",
       " 'count_27',\n",
       " 'count_28',\n",
       " 'count_29',\n",
       " 'count_30',\n",
       " 'count_31']"
      ]
     },
     "execution_count": 24,
     "metadata": {},
     "output_type": "execute_result"
    }
   ],
   "source": [
    "hashtags[\"03\"].columns"
   ]
  }
 ],
 "metadata": {
  "kernelspec": {
   "display_name": "Python 3",
   "language": "python",
   "name": "python3"
  },
  "language_info": {
   "codemirror_mode": {
    "name": "ipython",
    "version": 3
   },
   "file_extension": ".py",
   "mimetype": "text/x-python",
   "name": "python",
   "nbconvert_exporter": "python",
   "pygments_lexer": "ipython3",
   "version": "3.7.1"
  }
 },
 "nbformat": 4,
 "nbformat_minor": 2
}
